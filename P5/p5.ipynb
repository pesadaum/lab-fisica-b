{
 "cells": [
  {
   "cell_type": "markdown",
   "metadata": {},
   "source": [
    "# Setup"
   ]
  },
  {
   "cell_type": "markdown",
   "metadata": {},
   "source": [
    "## Bibliotecas"
   ]
  },
  {
   "cell_type": "code",
   "execution_count": 35,
   "metadata": {},
   "outputs": [],
   "source": [
    "import numpy as np\n",
    "import matplotlib.pyplot as plt\n",
    "import pandas as pd\n",
    "\n",
    "rc = {\"font.family\": \"serif\",  # fonte serifada\n",
    "      \"mathtext.fontset\": \"cm\",  # texto matemático em LaTeX\n",
    "      \"font.size\": 14,  # Usar tamanho 12 ou 14\n",
    "      \"axes.axisbelow\": True,  # grid abaixo dos dados\n",
    "      \"text.usetex\": True,\n",
    "      \"axes.grid\": True\n",
    "      }\n",
    "\n",
    "%matplotlib inline\n",
    "\n",
    "plt.rcParams.update(rc)\n"
   ]
  },
  {
   "cell_type": "markdown",
   "metadata": {},
   "source": [
    "## Funções"
   ]
  },
  {
   "cell_type": "code",
   "execution_count": 36,
   "metadata": {},
   "outputs": [],
   "source": [
    "def regressao_polinomial(x, y, deg=1, return_all=False):\n",
    "    \"\"\"\n",
    "    - Retorna: \n",
    "      coeficientes, polinomio, regressão | regressao\n",
    "    \"\"\"\n",
    "    coeficientes = np.polyfit(x, y, deg=deg)\n",
    "    polinomio = np.poly1d(coeficientes)\n",
    "    regressao = polinomio(x)\n",
    "    return [coeficientes, polinomio, regressao] if return_all else regressao\n",
    "\n",
    "\n",
    "def add_c_grid(ax, a1=0.5, a2=0.5):\n",
    "    ax.minorticks_on()\n",
    "    ax.grid(which='major', alpha=a1)\n",
    "    ax.grid(which='minor', alpha=a2)\n",
    "\n",
    "\n",
    "def add_sci_limits(ax='both', limits=(0, 0)):\n",
    "    plt.ticklabel_format(\n",
    "        axis=ax,\n",
    "        style='sci',\n",
    "        useMathText=True,\n",
    "        scilimits=limits)\n",
    "\n",
    "def save_tab(tab, file, idx=True, header=True):\n",
    "    tab.to_latex(\n",
    "    buf=file,\n",
    "    bold_rows=True,\n",
    "    escape=False,\n",
    "    index=idx,\n",
    "    encoding='utf-8',\n",
    "    header=header,\n",
    "    column_format=len(tab.columns)*'c')\n",
    "\n",
    "def reg_lin_manual(x, y, retorna_incerteza=False) -> list:\n",
    "    '''\n",
    "    Calcula os coeficientes da regressão linear calculada manualmente de x e y.\n",
    "\n",
    "    # Retorna\n",
    "\n",
    "    ## retorna_incerteza = False\n",
    "     * [A, B, reg]\n",
    "\n",
    "    ## retorna_incerteza = True\n",
    "    * [A, B, reg, sigma_a, sigma_b]\n",
    "\n",
    "    # Descrição do retorno:\n",
    "    * A : Coeficiente linear\n",
    "    * B: Coeficiente angular\n",
    "    * reg: vetor de regeressão\n",
    "    * sigma_a: incerteza de A\n",
    "    * sigma_b: incerteza de B\n",
    "    '''\n",
    "\n",
    "    B = ((np.sum(x) * np.sum(y)) - (x.size * np.sum(x*y))) / \\\n",
    "        (np.sum(x)**2 - (x.size * np.sum(x**2)))\n",
    "\n",
    "    A = (np.sum(y) - B * np.sum(x)) / (x.size)\n",
    "\n",
    "    pol = np.poly1d([B, A])\n",
    "    reg = pol(x)\n",
    "\n",
    "    if retorna_incerteza:\n",
    "        S = np.sum(np.power(y - reg, 2))\n",
    "        den = (x.size * np.sum(x**2)) - (np.sum(x))**2\n",
    "\n",
    "        sigma_a = S / ((x.size - 2) * np.sqrt(den))\n",
    "        sigma_b = (S / (x.size - 2)) * np.sqrt(np.sum(x**2)/den)\n",
    "        return [A, B, reg, sigma_a, sigma_b]\n",
    "\n",
    "    return [A, B, reg]\n"
   ]
  },
  {
   "cell_type": "code",
   "execution_count": 37,
   "metadata": {},
   "outputs": [
    {
     "data": {
      "text/html": [
       "<div>\n",
       "<style scoped>\n",
       "    .dataframe tbody tr th:only-of-type {\n",
       "        vertical-align: middle;\n",
       "    }\n",
       "\n",
       "    .dataframe tbody tr th {\n",
       "        vertical-align: top;\n",
       "    }\n",
       "\n",
       "    .dataframe thead th {\n",
       "        text-align: right;\n",
       "    }\n",
       "</style>\n",
       "<table border=\"1\" class=\"dataframe\">\n",
       "  <thead>\n",
       "    <tr style=\"text-align: right;\">\n",
       "      <th></th>\n",
       "      <th>theta_1</th>\n",
       "      <th>theta_2</th>\n",
       "    </tr>\n",
       "  </thead>\n",
       "  <tbody>\n",
       "    <tr>\n",
       "      <th>0</th>\n",
       "      <td>0.0</td>\n",
       "      <td>0.0</td>\n",
       "    </tr>\n",
       "    <tr>\n",
       "      <th>1</th>\n",
       "      <td>10.0</td>\n",
       "      <td>6.0</td>\n",
       "    </tr>\n",
       "    <tr>\n",
       "      <th>2</th>\n",
       "      <td>20.0</td>\n",
       "      <td>12.0</td>\n",
       "    </tr>\n",
       "    <tr>\n",
       "      <th>3</th>\n",
       "      <td>30.0</td>\n",
       "      <td>19.0</td>\n",
       "    </tr>\n",
       "    <tr>\n",
       "      <th>4</th>\n",
       "      <td>40.0</td>\n",
       "      <td>24.0</td>\n",
       "    </tr>\n",
       "    <tr>\n",
       "      <th>5</th>\n",
       "      <td>50.0</td>\n",
       "      <td>30.0</td>\n",
       "    </tr>\n",
       "    <tr>\n",
       "      <th>6</th>\n",
       "      <td>60.0</td>\n",
       "      <td>34.0</td>\n",
       "    </tr>\n",
       "    <tr>\n",
       "      <th>7</th>\n",
       "      <td>70.0</td>\n",
       "      <td>38.0</td>\n",
       "    </tr>\n",
       "    <tr>\n",
       "      <th>8</th>\n",
       "      <td>80.0</td>\n",
       "      <td>40.0</td>\n",
       "    </tr>\n",
       "  </tbody>\n",
       "</table>\n",
       "</div>"
      ],
      "text/plain": [
       "   theta_1  theta_2\n",
       "0      0.0      0.0\n",
       "1     10.0      6.0\n",
       "2     20.0     12.0\n",
       "3     30.0     19.0\n",
       "4     40.0     24.0\n",
       "5     50.0     30.0\n",
       "6     60.0     34.0\n",
       "7     70.0     38.0\n",
       "8     80.0     40.0"
      ]
     },
     "execution_count": 37,
     "metadata": {},
     "output_type": "execute_result"
    }
   ],
   "source": [
    "tab_1 = pd.DataFrame({'theta_1': np.arange(0, 90.0, 10.0)})\n",
    "tab_1['theta_2'] = [0.0, 6.0, 12.0, 19.0, 24.0, 30.0, 34.0, 38.0, 40.0]\n",
    "\n",
    "tab_1\n"
   ]
  },
  {
   "cell_type": "code",
   "execution_count": 38,
   "metadata": {},
   "outputs": [
    {
     "data": {
      "text/html": [
       "<div>\n",
       "<style scoped>\n",
       "    .dataframe tbody tr th:only-of-type {\n",
       "        vertical-align: middle;\n",
       "    }\n",
       "\n",
       "    .dataframe tbody tr th {\n",
       "        vertical-align: top;\n",
       "    }\n",
       "\n",
       "    .dataframe thead th {\n",
       "        text-align: right;\n",
       "    }\n",
       "</style>\n",
       "<table border=\"1\" class=\"dataframe\">\n",
       "  <thead>\n",
       "    <tr style=\"text-align: right;\">\n",
       "      <th></th>\n",
       "      <th>theta_1</th>\n",
       "      <th>theta_2</th>\n",
       "      <th>sen_t1</th>\n",
       "      <th>sen_t2</th>\n",
       "      <th>sen1/sen2</th>\n",
       "    </tr>\n",
       "  </thead>\n",
       "  <tbody>\n",
       "    <tr>\n",
       "      <th>0</th>\n",
       "      <td>0.0</td>\n",
       "      <td>0.0</td>\n",
       "      <td>0.000000</td>\n",
       "      <td>0.000000</td>\n",
       "      <td>NaN</td>\n",
       "    </tr>\n",
       "    <tr>\n",
       "      <th>1</th>\n",
       "      <td>10.0</td>\n",
       "      <td>6.0</td>\n",
       "      <td>0.173648</td>\n",
       "      <td>0.104528</td>\n",
       "      <td>1.661253</td>\n",
       "    </tr>\n",
       "    <tr>\n",
       "      <th>2</th>\n",
       "      <td>20.0</td>\n",
       "      <td>12.0</td>\n",
       "      <td>0.342020</td>\n",
       "      <td>0.207912</td>\n",
       "      <td>1.645026</td>\n",
       "    </tr>\n",
       "    <tr>\n",
       "      <th>3</th>\n",
       "      <td>30.0</td>\n",
       "      <td>19.0</td>\n",
       "      <td>0.500000</td>\n",
       "      <td>0.325568</td>\n",
       "      <td>1.535777</td>\n",
       "    </tr>\n",
       "    <tr>\n",
       "      <th>4</th>\n",
       "      <td>40.0</td>\n",
       "      <td>24.0</td>\n",
       "      <td>0.642788</td>\n",
       "      <td>0.406737</td>\n",
       "      <td>1.580353</td>\n",
       "    </tr>\n",
       "    <tr>\n",
       "      <th>5</th>\n",
       "      <td>50.0</td>\n",
       "      <td>30.0</td>\n",
       "      <td>0.766044</td>\n",
       "      <td>0.500000</td>\n",
       "      <td>1.532089</td>\n",
       "    </tr>\n",
       "    <tr>\n",
       "      <th>6</th>\n",
       "      <td>60.0</td>\n",
       "      <td>34.0</td>\n",
       "      <td>0.866025</td>\n",
       "      <td>0.559193</td>\n",
       "      <td>1.548706</td>\n",
       "    </tr>\n",
       "    <tr>\n",
       "      <th>7</th>\n",
       "      <td>70.0</td>\n",
       "      <td>38.0</td>\n",
       "      <td>0.939693</td>\n",
       "      <td>0.615661</td>\n",
       "      <td>1.526314</td>\n",
       "    </tr>\n",
       "    <tr>\n",
       "      <th>8</th>\n",
       "      <td>80.0</td>\n",
       "      <td>40.0</td>\n",
       "      <td>0.984808</td>\n",
       "      <td>0.642788</td>\n",
       "      <td>1.532089</td>\n",
       "    </tr>\n",
       "  </tbody>\n",
       "</table>\n",
       "</div>"
      ],
      "text/plain": [
       "   theta_1  theta_2    sen_t1    sen_t2  sen1/sen2\n",
       "0      0.0      0.0  0.000000  0.000000        NaN\n",
       "1     10.0      6.0  0.173648  0.104528   1.661253\n",
       "2     20.0     12.0  0.342020  0.207912   1.645026\n",
       "3     30.0     19.0  0.500000  0.325568   1.535777\n",
       "4     40.0     24.0  0.642788  0.406737   1.580353\n",
       "5     50.0     30.0  0.766044  0.500000   1.532089\n",
       "6     60.0     34.0  0.866025  0.559193   1.548706\n",
       "7     70.0     38.0  0.939693  0.615661   1.526314\n",
       "8     80.0     40.0  0.984808  0.642788   1.532089"
      ]
     },
     "execution_count": 38,
     "metadata": {},
     "output_type": "execute_result"
    }
   ],
   "source": [
    "tab_1['sen_t1'] = np.sin(np.radians(tab_1['theta_1']))\n",
    "tab_1['sen_t2'] = np.sin(np.radians(tab_1['theta_2']))\n",
    "\n",
    "tab_1['sen1/sen2'] = tab_1['sen_t1']/tab_1['sen_t2']\n",
    "\n",
    "tab_1"
   ]
  },
  {
   "cell_type": "code",
   "execution_count": 39,
   "metadata": {},
   "outputs": [],
   "source": [
    "A, B, reg, sigma_a, sigma_b = reg_lin_manual(\n",
    "    x=tab_1['sen_t1'], y=tab_1['sen_t2'], retorna_incerteza=True)\n"
   ]
  },
  {
   "cell_type": "code",
   "execution_count": 75,
   "metadata": {},
   "outputs": [
    {
     "data": {
      "text/plain": [
       "(-0.007904529758554664,\n",
       " 0.6583912732670161,\n",
       " 1.4285003588689546e-05,\n",
       " 2.8570007177379086e-05,\n",
       " 1.518853667421624)"
      ]
     },
     "execution_count": 75,
     "metadata": {},
     "output_type": "execute_result"
    }
   ],
   "source": [
    "A, B, sigma_a, sigma_b"
   ]
  },
  {
   "cell_type": "code",
   "execution_count": 40,
   "metadata": {},
   "outputs": [
    {
     "data": {
      "image/png": "[encoded data removed]",
      "text/plain": [
       "<Figure size 648x360 with 1 Axes>"
      ]
     },
     "metadata": {
      "needs_background": "light"
     },
     "output_type": "display_data"
    }
   ],
   "source": [
    "f, ax = plt.subplots(figsize=(9, 5))\n",
    "\n",
    "# ax.set_aspect('equal')\n",
    "\n",
    "ax.plot(tab_1['sen_t1'], tab_1['sen_t2'], 'o', label='Dados coletados')\n",
    "ax.plot(tab_1['sen_t1'], reg, ':', label='Regressão linear')\n",
    "\n",
    "ax.legend()\n",
    "\n",
    "ax.set(\n",
    "    title=r'Ajuste linear: $y=$' + f'${A:.6f} + {B:.6f}x$',\n",
    "    xlabel=r'sen($\\theta_1$)',\n",
    "    ylabel=r'sen($\\theta_2$)'\n",
    ")\n",
    "\n",
    "f.tight_layout()\n",
    "f.savefig('./sen1_sen2.pdf')\n",
    "\n",
    "plt.show()"
   ]
  },
  {
   "cell_type": "code",
   "execution_count": 41,
   "metadata": {},
   "outputs": [
    {
     "data": {
      "text/plain": [
       "Index(['theta_1', 'theta_2', 'sen_t1', 'sen_t2', 'sen1/sen2'], dtype='object')"
      ]
     },
     "execution_count": 41,
     "metadata": {},
     "output_type": "execute_result"
    }
   ],
   "source": [
    "tab_1.columns"
   ]
  },
  {
   "cell_type": "code",
   "execution_count": 42,
   "metadata": {},
   "outputs": [
    {
     "name": "stderr",
     "output_type": "stream",
     "text": [
      "/tmp/ipykernel_3839/1339667704.py:26: FutureWarning: In future versions `DataFrame.to_latex` is expected to utilise the base implementation of `Styler.to_latex` for formatting and rendering. The arguments signature may therefore change. It is recommended instead to use `DataFrame.style.to_latex` which also contains additional functionality.\n",
      "  tab.to_latex(\n"
     ]
    }
   ],
   "source": [
    "tab_1_latex = tab_1.copy()\n",
    "\n",
    "tab_1_latex.rename({\n",
    "    'theta_1': r'$\\theta_1 \\pm 0.5$',\n",
    "    'theta_2': r'$\\theta_2 \\pm 0.5$',\n",
    "    'sen_t1': r'sen($\\theta_1$)',\n",
    "    'sen_t2': r'sen($\\theta_2$)',\n",
    "    'sen1/sen2': r'sen($\\theta_1$)/sen($\\theta_2$)'}, axis=1, inplace=True)\n",
    "\n",
    "tab_1_latex.fillna(r'$\\infty$', inplace=True)\n",
    "\n",
    "\n",
    "\n",
    "save_tab(tab=tab_1_latex, file='./t1.tex', idx=False)"
   ]
  },
  {
   "cell_type": "code",
   "execution_count": 73,
   "metadata": {},
   "outputs": [
    {
     "data": {
      "image/png": "[encoded data removed]",
      "text/plain": [
       "<Figure size 648x360 with 1 Axes>"
      ]
     },
     "metadata": {
      "needs_background": "light"
     },
     "output_type": "display_data"
    }
   ],
   "source": [
    "f, ax = plt.subplots(figsize=(9,5))\n",
    "\n",
    "tab_1.loc[tab_1['sen1/sen2'] > 1, 'sen1/sen2'].plot.bar(ax=ax)\n",
    "\n",
    "ax.set(\n",
    "    xlabel=r'$\\theta_i$',\n",
    "    ylabel=r'$\\frac{sen(\\theta_1)}{sen(\\theta_2)}$',\n",
    ")\n",
    "\n",
    "m = tab_1['sen1/sen2'].mean()\n",
    "\n",
    "ax.axhline(m, linestyle='--', color='k')\n",
    "\n",
    "ax.annotate(\n",
    "    r'Média = ' + f'{m:.6f}',\n",
    "    xy=(4, m),\n",
    "    xycoords='data',\n",
    "    xytext=(3, 1.0),\n",
    "    bbox=dict(boxstyle=\"round\", fc=\"0.8\"),\n",
    "    arrowprops=dict(arrowstyle=\"->\",\n",
    "                    connectionstyle=\"angle,angleA=0,angleB=90,rad=10\"))\n",
    "\n",
    "ax.set_title(r'Razão entre os senos para cada par de ângulos')\n",
    "\n",
    "ax.set_xticklabels(labels=range(1,9), rotation=0)\n",
    "\n",
    "f.tight_layout()\n",
    "\n",
    "f.savefig('./medias_angulos.pdf')\n"
   ]
  },
  {
   "cell_type": "code",
   "execution_count": 77,
   "metadata": {},
   "outputs": [
    {
     "data": {
      "text/plain": [
       "1.4944765498646086"
      ]
     },
     "execution_count": 77,
     "metadata": {},
     "output_type": "execute_result"
    }
   ],
   "source": [
    "1/np.sin(np.radians(42))"
   ]
  }
 ],
 "metadata": {
  "interpreter": {
   "hash": "916dbcbb3f70747c44a77c7bcd40155683ae19c65e1c03b4aa3499c5328201f1"
  },
  "kernelspec": {
   "display_name": "Python 3.10.4 64-bit",
   "language": "python",
   "name": "python3"
  },
  "language_info": {
   "codemirror_mode": {
    "name": "ipython",
    "version": 3
   },
   "file_extension": ".py",
   "mimetype": "text/x-python",
   "name": "python",
   "nbconvert_exporter": "python",
   "pygments_lexer": "ipython3",
   "version": "3.10.4"
  },
  "orig_nbformat": 4
 },
 "nbformat": 4,
 "nbformat_minor": 2
}
