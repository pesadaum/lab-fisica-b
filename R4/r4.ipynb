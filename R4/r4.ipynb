{
 "cells": [
  {
   "cell_type": "markdown",
   "metadata": {},
   "source": [
    "# Setup"
   ]
  },
  {
   "cell_type": "markdown",
   "metadata": {},
   "source": [
    "## Bibliotecas"
   ]
  },
  {
   "cell_type": "code",
   "execution_count": 173,
   "metadata": {},
   "outputs": [],
   "source": [
    "import numpy as np\n",
    "import matplotlib.pyplot as plt\n",
    "import pandas as pd\n",
    "\n",
    "rc = {\"font.family\": \"serif\",  # fonte serifada\n",
    "      \"mathtext.fontset\": \"cm\",  # texto matemático em LaTeX\n",
    "      \"font.size\": 14,  # Usar tamanho 12 ou 14\n",
    "      \"axes.axisbelow\": True,  # grid abaixo dos dados\n",
    "      \"axes.grid\": True, # grid por padrão\n",
    "      \n",
    "      \"text.usetex\": True, # latex em toda a figura\n",
    "      }\n",
    "\n",
    "%matplotlib inline\n",
    "\n",
    "plt.rcParams.update(rc)\n"
   ]
  },
  {
   "cell_type": "markdown",
   "metadata": {},
   "source": [
    "## Funções"
   ]
  },
  {
   "cell_type": "code",
   "execution_count": 174,
   "metadata": {},
   "outputs": [],
   "source": [
    "def regressao_polinomial(x, y, deg=1, return_all=False):\n",
    "    \"\"\"\n",
    "    - Retorna: \n",
    "      coeficientes, polinomio, regressão | regressao\n",
    "    \"\"\"\n",
    "    coeficientes = np.polyfit(x, y, deg=deg)\n",
    "    polinomio = np.poly1d(coeficientes)\n",
    "    regressao = polinomio(x)\n",
    "    return [coeficientes, polinomio, regressao] if return_all else regressao\n",
    "\n",
    "\n",
    "def add_c_grid(ax, a1=0.5, a2=0.5):\n",
    "    ax.minorticks_on()\n",
    "    ax.grid(which='major', alpha=a1)\n",
    "    ax.grid(which='minor', alpha=a2)\n",
    "\n",
    "\n",
    "def add_sci_limits(ax, which='both', limits=(0, 0)):\n",
    "    ax.ticklabel_format(\n",
    "        axis=which,\n",
    "        style='sci',\n",
    "        useMathText=True,\n",
    "        scilimits=limits)\n",
    "\n",
    "def save_tab(tab, file, idx=False, header=True):\n",
    "    tab.to_latex(\n",
    "    buf=file,\n",
    "    escape=False,\n",
    "    index=idx,\n",
    "    encoding='utf-8',\n",
    "    header=header,\n",
    "    column_format=len(tab.columns)*'c')"
   ]
  },
  {
   "cell_type": "markdown",
   "metadata": {},
   "source": [
    "## Regressão manual"
   ]
  },
  {
   "cell_type": "code",
   "execution_count": 175,
   "metadata": {},
   "outputs": [],
   "source": [
    "def reg_lin_manual(x, y, retorna_incerteza=False) -> list:\n",
    "    '''\n",
    "    Calcula os coeficientes da regressão linear calculada manualmente de x e y.\n",
    "\n",
    "    # Retorna\n",
    "\n",
    "    ## retorna_incerteza = False\n",
    "     * [A, B, reg]\n",
    "\n",
    "    ## retorna_incerteza = True\n",
    "    * [A, B, reg, sigma_a, sigma_b]\n",
    "\n",
    "    # Descrição do retorno:\n",
    "    * A : Coeficiente linear\n",
    "    * B: Coeficiente angular\n",
    "    * reg: vetor de regeressão\n",
    "    * sigma_a: incerteza de A\n",
    "    * sigma_b: incerteza de B\n",
    "    '''\n",
    "\n",
    "    B = ((np.sum(x) * np.sum(y)) - (x.size * np.sum(x*y))) / \\\n",
    "        (np.sum(x)**2 - (x.size * np.sum(x**2)))\n",
    "\n",
    "    A = (np.sum(y) - B * np.sum(x)) / (x.size)\n",
    "\n",
    "    pol = np.poly1d([B, A])\n",
    "    reg = pol(x)\n",
    "\n",
    "    if retorna_incerteza:\n",
    "        S = np.sum(np.power(y - reg, 2))\n",
    "        den = (x.size * np.sum(x**2)) - (np.sum(x))**2\n",
    "\n",
    "        sigma_a = S / ((x.size - 2) * np.sqrt(den))\n",
    "        sigma_b = (S / (x.size - 2)) * np.sqrt(np.sum(x**2)/den)\n",
    "        return [A, B, reg, sigma_a, sigma_b]\n",
    "\n",
    "    return [A, B, reg]\n"
   ]
  },
  {
   "cell_type": "markdown",
   "metadata": {},
   "source": [
    "# Parte 1"
   ]
  },
  {
   "cell_type": "markdown",
   "metadata": {},
   "source": [
    "## Coleta dos dados"
   ]
  },
  {
   "cell_type": "code",
   "execution_count": 176,
   "metadata": {},
   "outputs": [
    {
     "data": {
      "text/html": [
       "<div>\n",
       "<style scoped>\n",
       "    .dataframe tbody tr th:only-of-type {\n",
       "        vertical-align: middle;\n",
       "    }\n",
       "\n",
       "    .dataframe tbody tr th {\n",
       "        vertical-align: top;\n",
       "    }\n",
       "\n",
       "    .dataframe thead th {\n",
       "        text-align: right;\n",
       "    }\n",
       "</style>\n",
       "<table border=\"1\" class=\"dataframe\">\n",
       "  <thead>\n",
       "    <tr style=\"text-align: right;\">\n",
       "      <th></th>\n",
       "      <th>t</th>\n",
       "      <th>q1</th>\n",
       "      <th>q2</th>\n",
       "      <th>q3</th>\n",
       "      <th>qm</th>\n",
       "      <th>ln</th>\n",
       "    </tr>\n",
       "  </thead>\n",
       "  <tbody>\n",
       "    <tr>\n",
       "      <th>0</th>\n",
       "      <td>0.0</td>\n",
       "      <td>2.66</td>\n",
       "      <td>2.66</td>\n",
       "      <td>2.66</td>\n",
       "      <td>2.66</td>\n",
       "      <td>0.978326</td>\n",
       "    </tr>\n",
       "    <tr>\n",
       "      <th>1</th>\n",
       "      <td>10.0</td>\n",
       "      <td>0.87</td>\n",
       "      <td>0.85</td>\n",
       "      <td>0.86</td>\n",
       "      <td>0.86</td>\n",
       "      <td>-0.150823</td>\n",
       "    </tr>\n",
       "    <tr>\n",
       "      <th>2</th>\n",
       "      <td>20.0</td>\n",
       "      <td>0.28</td>\n",
       "      <td>0.28</td>\n",
       "      <td>0.28</td>\n",
       "      <td>0.28</td>\n",
       "      <td>-1.272966</td>\n",
       "    </tr>\n",
       "    <tr>\n",
       "      <th>3</th>\n",
       "      <td>30.0</td>\n",
       "      <td>0.09</td>\n",
       "      <td>0.09</td>\n",
       "      <td>0.09</td>\n",
       "      <td>0.09</td>\n",
       "      <td>-2.407946</td>\n",
       "    </tr>\n",
       "    <tr>\n",
       "      <th>4</th>\n",
       "      <td>40.0</td>\n",
       "      <td>0.03</td>\n",
       "      <td>0.03</td>\n",
       "      <td>0.03</td>\n",
       "      <td>0.03</td>\n",
       "      <td>-3.506558</td>\n",
       "    </tr>\n",
       "  </tbody>\n",
       "</table>\n",
       "</div>"
      ],
      "text/plain": [
       "      t    q1    q2    q3    qm        ln\n",
       "0   0.0  2.66  2.66  2.66  2.66  0.978326\n",
       "1  10.0  0.87  0.85  0.86  0.86 -0.150823\n",
       "2  20.0  0.28  0.28  0.28  0.28 -1.272966\n",
       "3  30.0  0.09  0.09  0.09  0.09 -2.407946\n",
       "4  40.0  0.03  0.03  0.03  0.03 -3.506558"
      ]
     },
     "execution_count": 176,
     "metadata": {},
     "output_type": "execute_result"
    }
   ],
   "source": [
    "tab_1 = pd.DataFrame({'t': np.arange(0.0, 50.0, 10.0)})\n",
    "\n",
    "tab_1['q1'] = [2.66, 0.87, 0.28, 0.09, 0.03]\n",
    "tab_1['q2'] = [2.66, 0.85, 0.28, 0.09, 0.03]\n",
    "tab_1['q3'] = [2.66, 0.86, 0.28, 0.09, 0.03]\n",
    "\n",
    "tab_1['qm'] = (tab_1['q1'] + tab_1['q2'] + tab_1['q3']) / 3\n",
    "\n",
    "tab_1['ln'] = np.log(tab_1['qm'])\n",
    "\n",
    "tab_1\n"
   ]
  },
  {
   "cell_type": "markdown",
   "metadata": {},
   "source": [
    "## Linearização da expressão"
   ]
  },
  {
   "cell_type": "code",
   "execution_count": 190,
   "metadata": {},
   "outputs": [
    {
     "data": {
      "text/plain": [
       "(0.9733849620837493,\n",
       " -0.11226890759144464,\n",
       " array([ 0.97338496, -0.14930411, -1.27199319, -2.39468227, -3.51737134]),\n",
       " 1.5109190061670183e-06,\n",
       " 8.275644222409632e-05)"
      ]
     },
     "execution_count": 190,
     "metadata": {},
     "output_type": "execute_result"
    }
   ],
   "source": [
    "A, B, reg, sigma_a, sigma_b = reg_lin_manual(\n",
    "    x=tab_1['t'], y=tab_1['ln'], retorna_incerteza=True)\n",
    "\n",
    "A, B, reg, sigma_a, sigma_b\n"
   ]
  },
  {
   "cell_type": "code",
   "execution_count": 199,
   "metadata": {},
   "outputs": [
    {
     "data": {
      "text/plain": [
       "(-8.907185626487776, -1.781437125297555e-12, -1.485816644072946)"
      ]
     },
     "execution_count": 199,
     "metadata": {},
     "output_type": "execute_result"
    }
   ],
   "source": [
    "tau = 1/B\n",
    "C = tau/5e12\n",
    "epsilon = np.exp(A)*1e-12/C\n",
    "\n",
    "tau, C, epsilon"
   ]
  },
  {
   "cell_type": "code",
   "execution_count": 203,
   "metadata": {},
   "outputs": [
    {
     "data": {
      "text/plain": [
       "(0.6461652710483141, 0.9455570618036072)"
      ]
     },
     "execution_count": 203,
     "metadata": {},
     "output_type": "execute_result"
    }
   ],
   "source": [
    "eta_c = abs((-C - 1.77e-12)/1.77e-12)\n",
    "eta_pilha = abs((-epsilon - 1.500)/1.500)\n",
    "\n",
    "eta_c*100, eta_pilha*100"
   ]
  },
  {
   "cell_type": "code",
   "execution_count": 179,
   "metadata": {},
   "outputs": [
    {
     "data": {
      "image/png": "[encoded data removed]",
      "text/plain": [
       "<Figure size 504x288 with 1 Axes>"
      ]
     },
     "metadata": {
      "needs_background": "light"
     },
     "output_type": "display_data"
    }
   ],
   "source": [
    "f, ax = plt.subplots(figsize=(7,4))\n",
    "\n",
    "ax.plot(tab_1['t'], tab_1['ln'], 'o', label='Dados coletados')\n",
    "ax.plot(tab_1['t'], reg, ':', label='Regressão linear')\n",
    "\n",
    "ax.set(\n",
    "    title=f'Ajuste linear: $y = ' f'{A:.6f}{B:.6f}x$',\n",
    "    xlabel='Tempo [s]',\n",
    "    ylabel=r'$\\ln(q_m) \\,\\left[\\ln\\left(C\\times 10^{-12}\\right)\\right]$'\n",
    ")\n",
    "\n",
    "ax.legend()\n",
    "\n",
    "f.tight_layout()\n",
    "f.savefig('carga-tempo.pdf')"
   ]
  },
  {
   "cell_type": "markdown",
   "metadata": {},
   "source": [
    "# Parte 2"
   ]
  },
  {
   "cell_type": "markdown",
   "metadata": {},
   "source": [
    "## Coleta dos dados"
   ]
  },
  {
   "cell_type": "code",
   "execution_count": 180,
   "metadata": {},
   "outputs": [
    {
     "data": {
      "text/html": [
       "<div>\n",
       "<style scoped>\n",
       "    .dataframe tbody tr th:only-of-type {\n",
       "        vertical-align: middle;\n",
       "    }\n",
       "\n",
       "    .dataframe tbody tr th {\n",
       "        vertical-align: top;\n",
       "    }\n",
       "\n",
       "    .dataframe thead th {\n",
       "        text-align: right;\n",
       "    }\n",
       "</style>\n",
       "<table border=\"1\" class=\"dataframe\">\n",
       "  <thead>\n",
       "    <tr style=\"text-align: right;\">\n",
       "      <th></th>\n",
       "      <th>t</th>\n",
       "      <th>v1</th>\n",
       "      <th>v2</th>\n",
       "      <th>v3</th>\n",
       "      <th>vm</th>\n",
       "      <th>ln</th>\n",
       "    </tr>\n",
       "  </thead>\n",
       "  <tbody>\n",
       "    <tr>\n",
       "      <th>0</th>\n",
       "      <td>0.0</td>\n",
       "      <td>1.5000</td>\n",
       "      <td>1.5000</td>\n",
       "      <td>1.5000</td>\n",
       "      <td>1.500000</td>\n",
       "      <td>0.405465</td>\n",
       "    </tr>\n",
       "    <tr>\n",
       "      <th>1</th>\n",
       "      <td>10.0</td>\n",
       "      <td>0.4890</td>\n",
       "      <td>0.4800</td>\n",
       "      <td>0.4850</td>\n",
       "      <td>0.484667</td>\n",
       "      <td>-0.724294</td>\n",
       "    </tr>\n",
       "    <tr>\n",
       "      <th>2</th>\n",
       "      <td>20.0</td>\n",
       "      <td>0.1560</td>\n",
       "      <td>0.1570</td>\n",
       "      <td>0.1570</td>\n",
       "      <td>0.156667</td>\n",
       "      <td>-1.853635</td>\n",
       "    </tr>\n",
       "    <tr>\n",
       "      <th>3</th>\n",
       "      <td>30.0</td>\n",
       "      <td>0.0510</td>\n",
       "      <td>0.0520</td>\n",
       "      <td>0.0500</td>\n",
       "      <td>0.051000</td>\n",
       "      <td>-2.975930</td>\n",
       "    </tr>\n",
       "    <tr>\n",
       "      <th>4</th>\n",
       "      <td>40.0</td>\n",
       "      <td>0.0160</td>\n",
       "      <td>0.0170</td>\n",
       "      <td>0.0170</td>\n",
       "      <td>0.016667</td>\n",
       "      <td>-4.094345</td>\n",
       "    </tr>\n",
       "    <tr>\n",
       "      <th>5</th>\n",
       "      <td>50.0</td>\n",
       "      <td>0.0050</td>\n",
       "      <td>0.0050</td>\n",
       "      <td>0.0050</td>\n",
       "      <td>0.005000</td>\n",
       "      <td>-5.298317</td>\n",
       "    </tr>\n",
       "    <tr>\n",
       "      <th>6</th>\n",
       "      <td>60.0</td>\n",
       "      <td>0.0002</td>\n",
       "      <td>0.0002</td>\n",
       "      <td>0.0002</td>\n",
       "      <td>0.000200</td>\n",
       "      <td>-8.517193</td>\n",
       "    </tr>\n",
       "  </tbody>\n",
       "</table>\n",
       "</div>"
      ],
      "text/plain": [
       "      t      v1      v2      v3        vm        ln\n",
       "0   0.0  1.5000  1.5000  1.5000  1.500000  0.405465\n",
       "1  10.0  0.4890  0.4800  0.4850  0.484667 -0.724294\n",
       "2  20.0  0.1560  0.1570  0.1570  0.156667 -1.853635\n",
       "3  30.0  0.0510  0.0520  0.0500  0.051000 -2.975930\n",
       "4  40.0  0.0160  0.0170  0.0170  0.016667 -4.094345\n",
       "5  50.0  0.0050  0.0050  0.0050  0.005000 -5.298317\n",
       "6  60.0  0.0002  0.0002  0.0002  0.000200 -8.517193"
      ]
     },
     "execution_count": 180,
     "metadata": {},
     "output_type": "execute_result"
    }
   ],
   "source": [
    "tab_2 = pd.DataFrame({'t': np.arange(0.0, 70.0, 10.0)})\n",
    "\n",
    "tab_2['v1'] = [1.500, 0.489, 0.156, 0.051, 0.016, 0.005, 0.0002 ]\n",
    "tab_2['v2'] = [1.500, 0.480, 0.157, 0.052, 0.017, 0.005, 0.0002 ]\n",
    "tab_2['v3'] = [1.500, 0.485, 0.157, 0.050, 0.017, 0.005, 0.0002 ]\n",
    "\n",
    "\n",
    "tab_2['vm'] = (tab_2['v1'] + tab_2['v2'] + tab_2['v3']) / 3\n",
    "\n",
    "tab_2['ln'] = np.log(tab_2['vm'])\n",
    "\n",
    "tab_2"
   ]
  },
  {
   "cell_type": "markdown",
   "metadata": {},
   "source": [
    "## Linearização da expressão"
   ]
  },
  {
   "cell_type": "code",
   "execution_count": 204,
   "metadata": {},
   "outputs": [
    {
     "data": {
      "text/plain": [
       "(0.7941857407906875,\n",
       " -0.13627404107797028,\n",
       " array([ 0.79418574, -0.56855467, -1.93129508, -3.29403549, -4.6567759 ,\n",
       "        -6.01951631, -7.38225672]),\n",
       " 0.003438740851257568,\n",
       " 0.3280349701528472)"
      ]
     },
     "execution_count": 204,
     "metadata": {},
     "output_type": "execute_result"
    }
   ],
   "source": [
    "A, B, reg, sigma_a, sigma_b = reg_lin_manual(\n",
    "    x=tab_2['t'], y=tab_2['ln'], retorna_incerteza=True)\n",
    "\n",
    "A, B, reg, sigma_a, sigma_b\n"
   ]
  },
  {
   "cell_type": "code",
   "execution_count": 182,
   "metadata": {},
   "outputs": [
    {
     "data": {
      "text/plain": [
       "(-7.338154736512451, -1.4676309473024903e-12)"
      ]
     },
     "execution_count": 182,
     "metadata": {},
     "output_type": "execute_result"
    }
   ],
   "source": [
    "tau = 1/B\n",
    "C = tau/5e12\n",
    "\n",
    "tau, C"
   ]
  },
  {
   "cell_type": "code",
   "execution_count": 183,
   "metadata": {},
   "outputs": [
    {
     "data": {
      "text/plain": [
       "17.082997327542916"
      ]
     },
     "execution_count": 183,
     "metadata": {},
     "output_type": "execute_result"
    }
   ],
   "source": [
    "eta = abs(-C - 1.77e-12)/1.77e-12\n",
    "\n",
    "eta*100"
   ]
  },
  {
   "cell_type": "code",
   "execution_count": 184,
   "metadata": {},
   "outputs": [
    {
     "data": {
      "text/plain": [
       "47.509240115794896"
      ]
     },
     "execution_count": 184,
     "metadata": {},
     "output_type": "execute_result"
    }
   ],
   "source": [
    "vpilha = np.exp(A)\n",
    "\n",
    "eta_pilha = abs(vpilha - 1.500)/1.500\n",
    "eta_pilha*100"
   ]
  },
  {
   "cell_type": "code",
   "execution_count": 185,
   "metadata": {},
   "outputs": [
    {
     "data": {
      "image/png": "[encoded data removed]",
      "text/plain": [
       "<Figure size 504x288 with 1 Axes>"
      ]
     },
     "metadata": {
      "needs_background": "light"
     },
     "output_type": "display_data"
    }
   ],
   "source": [
    "f, ax = plt.subplots(figsize=(7,4))\n",
    "\n",
    "ax.plot(tab_2['t'], tab_2['ln'], 'o', label='Dados coletados')\n",
    "ax.plot(tab_2['t'], reg, ':', label='Regressão linear')\n",
    "\n",
    "ax.set(\n",
    "    title=f'Ajuste linear: $y = ' f'{A:.6f}{B:.6f}x$',\n",
    "    xlabel='Tempo [s]',\n",
    "    ylabel=r'$\\ln(v_m) \\,\\left[\\ln\\left(V\\right)\\right]$'\n",
    ")\n",
    "\n",
    "ax.legend()\n",
    "\n",
    "f.tight_layout()\n",
    "f.savefig('tensao-tempo.pdf')"
   ]
  },
  {
   "cell_type": "markdown",
   "metadata": {},
   "source": [
    "# Relatório"
   ]
  },
  {
   "cell_type": "code",
   "execution_count": 186,
   "metadata": {},
   "outputs": [
    {
     "name": "stderr",
     "output_type": "stream",
     "text": [
      "/tmp/ipykernel_5731/1010055959.py:26: FutureWarning: In future versions `DataFrame.to_latex` is expected to utilise the base implementation of `Styler.to_latex` for formatting and rendering. The arguments signature may therefore change. It is recommended instead to use `DataFrame.style.to_latex` which also contains additional functionality.\n",
      "  tab.to_latex(\n"
     ]
    },
    {
     "data": {
      "text/html": [
       "<div>\n",
       "<style scoped>\n",
       "    .dataframe tbody tr th:only-of-type {\n",
       "        vertical-align: middle;\n",
       "    }\n",
       "\n",
       "    .dataframe tbody tr th {\n",
       "        vertical-align: top;\n",
       "    }\n",
       "\n",
       "    .dataframe thead th {\n",
       "        text-align: right;\n",
       "    }\n",
       "</style>\n",
       "<table border=\"1\" class=\"dataframe\">\n",
       "  <thead>\n",
       "    <tr style=\"text-align: right;\">\n",
       "      <th></th>\n",
       "      <th>$t \\pm 0.05$ [s]</th>\n",
       "      <th>$q_1 \\pm 0.005$ [pC]</th>\n",
       "      <th>$q_2 \\pm 0.005$ [pC]</th>\n",
       "      <th>$q_3 \\pm 0.005$ [pC]</th>\n",
       "      <th>$q_m \\pm sigma_{q_m}$ [pC]</th>\n",
       "      <th>$\\ln(q_m)$</th>\n",
       "    </tr>\n",
       "  </thead>\n",
       "  <tbody>\n",
       "    <tr>\n",
       "      <th>0</th>\n",
       "      <td>0.0</td>\n",
       "      <td>2.66</td>\n",
       "      <td>2.66</td>\n",
       "      <td>2.66</td>\n",
       "      <td>2.66</td>\n",
       "      <td>0.978326</td>\n",
       "    </tr>\n",
       "    <tr>\n",
       "      <th>1</th>\n",
       "      <td>10.0</td>\n",
       "      <td>0.87</td>\n",
       "      <td>0.85</td>\n",
       "      <td>0.86</td>\n",
       "      <td>0.86</td>\n",
       "      <td>-0.150823</td>\n",
       "    </tr>\n",
       "    <tr>\n",
       "      <th>2</th>\n",
       "      <td>20.0</td>\n",
       "      <td>0.28</td>\n",
       "      <td>0.28</td>\n",
       "      <td>0.28</td>\n",
       "      <td>0.28</td>\n",
       "      <td>-1.272966</td>\n",
       "    </tr>\n",
       "    <tr>\n",
       "      <th>3</th>\n",
       "      <td>30.0</td>\n",
       "      <td>0.09</td>\n",
       "      <td>0.09</td>\n",
       "      <td>0.09</td>\n",
       "      <td>0.09</td>\n",
       "      <td>-2.407946</td>\n",
       "    </tr>\n",
       "    <tr>\n",
       "      <th>4</th>\n",
       "      <td>40.0</td>\n",
       "      <td>0.03</td>\n",
       "      <td>0.03</td>\n",
       "      <td>0.03</td>\n",
       "      <td>0.03</td>\n",
       "      <td>-3.506558</td>\n",
       "    </tr>\n",
       "  </tbody>\n",
       "</table>\n",
       "</div>"
      ],
      "text/plain": [
       "   $t \\pm 0.05$ [s]  $q_1 \\pm 0.005$ [pC]  $q_2 \\pm 0.005$ [pC]  \\\n",
       "0               0.0                  2.66                  2.66   \n",
       "1              10.0                  0.87                  0.85   \n",
       "2              20.0                  0.28                  0.28   \n",
       "3              30.0                  0.09                  0.09   \n",
       "4              40.0                  0.03                  0.03   \n",
       "\n",
       "   $q_3 \\pm 0.005$ [pC]  $q_m \\pm sigma_{q_m}$ [pC]  $\\ln(q_m)$  \n",
       "0                  2.66                        2.66    0.978326  \n",
       "1                  0.86                        0.86   -0.150823  \n",
       "2                  0.28                        0.28   -1.272966  \n",
       "3                  0.09                        0.09   -2.407946  \n",
       "4                  0.03                        0.03   -3.506558  "
      ]
     },
     "execution_count": 186,
     "metadata": {},
     "output_type": "execute_result"
    }
   ],
   "source": [
    "tab_1_tex = tab_1.copy()\n",
    "\n",
    "tab_1_tex.columns = [r'$t \\pm 0.05$ [s]',\n",
    "                 r'$q_1 \\pm 0.005$ [pC]',\n",
    "                 r'$q_2 \\pm 0.005$ [pC]',\n",
    "                 r'$q_3 \\pm 0.005$ [pC]',\n",
    "                 r'$q_m \\pm sigma_{q_m}$ [pC]',\n",
    "                 r'$\\ln(q_m)$']\n",
    "\n",
    "save_tab(tab_1_tex, './t1.tex', idx=False)\n",
    "tab_1_tex"
   ]
  },
  {
   "cell_type": "code",
   "execution_count": 187,
   "metadata": {},
   "outputs": [
    {
     "name": "stderr",
     "output_type": "stream",
     "text": [
      "/tmp/ipykernel_5731/1010055959.py:26: FutureWarning: In future versions `DataFrame.to_latex` is expected to utilise the base implementation of `Styler.to_latex` for formatting and rendering. The arguments signature may therefore change. It is recommended instead to use `DataFrame.style.to_latex` which also contains additional functionality.\n",
      "  tab.to_latex(\n"
     ]
    },
    {
     "data": {
      "text/html": [
       "<div>\n",
       "<style scoped>\n",
       "    .dataframe tbody tr th:only-of-type {\n",
       "        vertical-align: middle;\n",
       "    }\n",
       "\n",
       "    .dataframe tbody tr th {\n",
       "        vertical-align: top;\n",
       "    }\n",
       "\n",
       "    .dataframe thead th {\n",
       "        text-align: right;\n",
       "    }\n",
       "</style>\n",
       "<table border=\"1\" class=\"dataframe\">\n",
       "  <thead>\n",
       "    <tr style=\"text-align: right;\">\n",
       "      <th></th>\n",
       "      <th>$t \\pm 0.05$ [s]</th>\n",
       "      <th>$v_1 \\pm 0.0005$ [V]</th>\n",
       "      <th>$v_2 \\pm 0.0005$ [V]</th>\n",
       "      <th>$v_3 \\pm 0.0005$ [V]</th>\n",
       "      <th>$v_m \\pm sigma_{q_m}$ [V]</th>\n",
       "      <th>$\\ln(v_m)$</th>\n",
       "    </tr>\n",
       "  </thead>\n",
       "  <tbody>\n",
       "    <tr>\n",
       "      <th>0</th>\n",
       "      <td>0.0</td>\n",
       "      <td>1.5000</td>\n",
       "      <td>1.5000</td>\n",
       "      <td>1.5000</td>\n",
       "      <td>1.500000</td>\n",
       "      <td>0.405465</td>\n",
       "    </tr>\n",
       "    <tr>\n",
       "      <th>1</th>\n",
       "      <td>10.0</td>\n",
       "      <td>0.4890</td>\n",
       "      <td>0.4800</td>\n",
       "      <td>0.4850</td>\n",
       "      <td>0.484667</td>\n",
       "      <td>-0.724294</td>\n",
       "    </tr>\n",
       "    <tr>\n",
       "      <th>2</th>\n",
       "      <td>20.0</td>\n",
       "      <td>0.1560</td>\n",
       "      <td>0.1570</td>\n",
       "      <td>0.1570</td>\n",
       "      <td>0.156667</td>\n",
       "      <td>-1.853635</td>\n",
       "    </tr>\n",
       "    <tr>\n",
       "      <th>3</th>\n",
       "      <td>30.0</td>\n",
       "      <td>0.0510</td>\n",
       "      <td>0.0520</td>\n",
       "      <td>0.0500</td>\n",
       "      <td>0.051000</td>\n",
       "      <td>-2.975930</td>\n",
       "    </tr>\n",
       "    <tr>\n",
       "      <th>4</th>\n",
       "      <td>40.0</td>\n",
       "      <td>0.0160</td>\n",
       "      <td>0.0170</td>\n",
       "      <td>0.0170</td>\n",
       "      <td>0.016667</td>\n",
       "      <td>-4.094345</td>\n",
       "    </tr>\n",
       "    <tr>\n",
       "      <th>5</th>\n",
       "      <td>50.0</td>\n",
       "      <td>0.0050</td>\n",
       "      <td>0.0050</td>\n",
       "      <td>0.0050</td>\n",
       "      <td>0.005000</td>\n",
       "      <td>-5.298317</td>\n",
       "    </tr>\n",
       "    <tr>\n",
       "      <th>6</th>\n",
       "      <td>60.0</td>\n",
       "      <td>0.0002</td>\n",
       "      <td>0.0002</td>\n",
       "      <td>0.0002</td>\n",
       "      <td>0.000200</td>\n",
       "      <td>-8.517193</td>\n",
       "    </tr>\n",
       "  </tbody>\n",
       "</table>\n",
       "</div>"
      ],
      "text/plain": [
       "   $t \\pm 0.05$ [s]  $v_1 \\pm 0.0005$ [V]  $v_2 \\pm 0.0005$ [V]  \\\n",
       "0               0.0                1.5000                1.5000   \n",
       "1              10.0                0.4890                0.4800   \n",
       "2              20.0                0.1560                0.1570   \n",
       "3              30.0                0.0510                0.0520   \n",
       "4              40.0                0.0160                0.0170   \n",
       "5              50.0                0.0050                0.0050   \n",
       "6              60.0                0.0002                0.0002   \n",
       "\n",
       "   $v_3 \\pm 0.0005$ [V]  $v_m \\pm sigma_{q_m}$ [V]  $\\ln(v_m)$  \n",
       "0                1.5000                   1.500000    0.405465  \n",
       "1                0.4850                   0.484667   -0.724294  \n",
       "2                0.1570                   0.156667   -1.853635  \n",
       "3                0.0500                   0.051000   -2.975930  \n",
       "4                0.0170                   0.016667   -4.094345  \n",
       "5                0.0050                   0.005000   -5.298317  \n",
       "6                0.0002                   0.000200   -8.517193  "
      ]
     },
     "execution_count": 187,
     "metadata": {},
     "output_type": "execute_result"
    }
   ],
   "source": [
    "tab_2_tex = tab_2.copy()\n",
    "\n",
    "tab_2_tex.columns = [r'$t \\pm 0.05$ [s]',\n",
    "                 r'$v_1 \\pm 0.0005$ [V]',\n",
    "                 r'$v_2 \\pm 0.0005$ [V]',\n",
    "                 r'$v_3 \\pm 0.0005$ [V]',\n",
    "                 r'$v_m \\pm sigma_{q_m}$ [V]',\n",
    "                 r'$\\ln(v_m)$']\n",
    "\n",
    "save_tab(tab_2_tex, './t2.tex', idx=False)\n",
    "tab_2_tex"
   ]
  }
 ],
 "metadata": {
  "interpreter": {
   "hash": "916dbcbb3f70747c44a77c7bcd40155683ae19c65e1c03b4aa3499c5328201f1"
  },
  "kernelspec": {
   "display_name": "Python 3.10.4 64-bit",
   "language": "python",
   "name": "python3"
  },
  "language_info": {
   "codemirror_mode": {
    "name": "ipython",
    "version": 3
   },
   "file_extension": ".py",
   "mimetype": "text/x-python",
   "name": "python",
   "nbconvert_exporter": "python",
   "pygments_lexer": "ipython3",
   "version": "3.10.4"
  },
  "orig_nbformat": 4
 },
 "nbformat": 4,
 "nbformat_minor": 2
}
