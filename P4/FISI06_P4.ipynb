{
 "cells": [
  {
   "cell_type": "code",
   "execution_count": 10,
   "metadata": {},
   "outputs": [],
   "source": [
    "import numpy as np\n",
    "import matplotlib.pyplot as plt\n",
    "import pandas as pd\n",
    "\n",
    "rc = {\"font.family\": \"serif\",  # fonte serifada\n",
    "      \"mathtext.fontset\": \"cm\",  # texto matemático em LaTeX\n",
    "      \"font.size\": 14,  # Usar tamanho 12 ou 14\n",
    "      \"axes.axisbelow\": True,  # grid abaixo dos dados\n",
    "      \"text.usetex\": True,\n",
    "      \"axes.grid\": True\n",
    "      }\n",
    "\n",
    "%matplotlib inline\n",
    "\n",
    "plt.rcParams.update(rc)\n"
   ]
  },
  {
   "cell_type": "code",
   "execution_count": 11,
   "metadata": {},
   "outputs": [],
   "source": [
    "def regressao_polinomial(x, y, deg=1, return_all=False):\n",
    "    \"\"\"\n",
    "    - Retorna: \n",
    "      coeficientes, polinomio, regressão | regressao\n",
    "    \"\"\"\n",
    "    coeficientes = np.polyfit(x, y, deg=deg)\n",
    "    polinomio = np.poly1d(coeficientes)\n",
    "    regressao = polinomio(x)\n",
    "    return [coeficientes, polinomio, regressao] if return_all else regressao\n",
    "\n",
    "\n",
    "def add_c_grid(a1=0.5, a2=0.5):\n",
    "    ax.minorticks_on()\n",
    "    ax.grid(which='major', alpha=a1)\n",
    "    ax.grid(which='minor', alpha=a2)\n",
    "\n",
    "\n",
    "def add_sci_limits(ax='both', limits=(0, 0)):\n",
    "    plt.ticklabel_format(\n",
    "        axis=ax,\n",
    "        style='sci',\n",
    "        useMathText=True,\n",
    "        scilimits=limits)\n",
    "\n",
    "def save_tab(tab, file, idx=True, header=True):\n",
    "    tab.to_latex(\n",
    "    buf=file,\n",
    "    bold_rows=True,\n",
    "    escape=False,\n",
    "    index=idx,\n",
    "    encoding='utf-8',\n",
    "    header=header,\n",
    "    column_format=len(tab.columns)*'c')"
   ]
  },
  {
   "cell_type": "code",
   "execution_count": 19,
   "metadata": {},
   "outputs": [],
   "source": [
    "def reg_lin_manual(x, y, retorna_incerteza=False) -> list:\n",
    "    '''\n",
    "    Calcula os coeficientes da regressão linear calculada manualmente de x e y.\n",
    "\n",
    "    # Retorna\n",
    "\n",
    "    ## retorna_incerteza = False\n",
    "     * [A, B, reg]\n",
    "\n",
    "    ## retorna_incerteza = True\n",
    "    * [A, B, reg, sigma_a, sigma_b]\n",
    "\n",
    "    # Descrição do retorno:\n",
    "    * A : Coeficiente linear\n",
    "    * B: Coeficiente angular\n",
    "    * reg: vetor de regeressão\n",
    "    * sigma_a: incerteza de A\n",
    "    * sigma_b: incerteza de B\n",
    "    '''\n",
    "\n",
    "    B = ((np.sum(x) * np.sum(y)) - (x.size * np.sum(x*y))) / \\\n",
    "        (np.sum(x)**2 - (x.size * np.sum(x**2)))\n",
    "\n",
    "    A = (np.sum(y) - B * np.sum(x)) / (x.size)\n",
    "\n",
    "    pol = np.poly1d([B, A])\n",
    "    reg = pol(x)\n",
    "\n",
    "    if retorna_incerteza:\n",
    "        S = np.sum(np.power(y - reg, 2))\n",
    "        den = (x.size * np.sum(x**2)) - (np.sum(x))**2\n",
    "\n",
    "        sigma_a = S / ((x.size - 2) * np.sqrt(den))\n",
    "        sigma_b = (S / (x.size - 2)) * np.sqrt(np.sum(x**2)/den)\n",
    "        return [A, B, reg, sigma_a, sigma_b]\n",
    "\n",
    "    return [A, B, reg]\n"
   ]
  },
  {
   "cell_type": "markdown",
   "metadata": {},
   "source": [
    "# Coleta dos dados"
   ]
  },
  {
   "cell_type": "code",
   "execution_count": 20,
   "metadata": {},
   "outputs": [
    {
     "data": {
      "text/html": [
       "<div>\n",
       "<style scoped>\n",
       "    .dataframe tbody tr th:only-of-type {\n",
       "        vertical-align: middle;\n",
       "    }\n",
       "\n",
       "    .dataframe tbody tr th {\n",
       "        vertical-align: top;\n",
       "    }\n",
       "\n",
       "    .dataframe thead th {\n",
       "        text-align: right;\n",
       "    }\n",
       "</style>\n",
       "<table border=\"1\" class=\"dataframe\">\n",
       "  <thead>\n",
       "    <tr style=\"text-align: right;\">\n",
       "      <th></th>\n",
       "      <th>theta</th>\n",
       "      <th>tg_theta</th>\n",
       "      <th>corrente</th>\n",
       "    </tr>\n",
       "  </thead>\n",
       "  <tbody>\n",
       "    <tr>\n",
       "      <th>0</th>\n",
       "      <td>70.0</td>\n",
       "      <td>2.747477</td>\n",
       "      <td>0.02</td>\n",
       "    </tr>\n",
       "    <tr>\n",
       "      <th>1</th>\n",
       "      <td>83.0</td>\n",
       "      <td>8.144346</td>\n",
       "      <td>0.04</td>\n",
       "    </tr>\n",
       "    <tr>\n",
       "      <th>2</th>\n",
       "      <td>83.0</td>\n",
       "      <td>8.144346</td>\n",
       "      <td>0.06</td>\n",
       "    </tr>\n",
       "    <tr>\n",
       "      <th>3</th>\n",
       "      <td>84.0</td>\n",
       "      <td>9.514364</td>\n",
       "      <td>0.08</td>\n",
       "    </tr>\n",
       "    <tr>\n",
       "      <th>4</th>\n",
       "      <td>84.0</td>\n",
       "      <td>9.514364</td>\n",
       "      <td>0.10</td>\n",
       "    </tr>\n",
       "    <tr>\n",
       "      <th>5</th>\n",
       "      <td>85.0</td>\n",
       "      <td>11.430052</td>\n",
       "      <td>0.12</td>\n",
       "    </tr>\n",
       "    <tr>\n",
       "      <th>6</th>\n",
       "      <td>85.0</td>\n",
       "      <td>11.430052</td>\n",
       "      <td>0.14</td>\n",
       "    </tr>\n",
       "    <tr>\n",
       "      <th>7</th>\n",
       "      <td>86.0</td>\n",
       "      <td>14.300666</td>\n",
       "      <td>0.16</td>\n",
       "    </tr>\n",
       "    <tr>\n",
       "      <th>8</th>\n",
       "      <td>87.0</td>\n",
       "      <td>19.081137</td>\n",
       "      <td>0.18</td>\n",
       "    </tr>\n",
       "  </tbody>\n",
       "</table>\n",
       "</div>"
      ],
      "text/plain": [
       "   theta   tg_theta  corrente\n",
       "0   70.0   2.747477      0.02\n",
       "1   83.0   8.144346      0.04\n",
       "2   83.0   8.144346      0.06\n",
       "3   84.0   9.514364      0.08\n",
       "4   84.0   9.514364      0.10\n",
       "5   85.0  11.430052      0.12\n",
       "6   85.0  11.430052      0.14\n",
       "7   86.0  14.300666      0.16\n",
       "8   87.0  19.081137      0.18"
      ]
     },
     "execution_count": 20,
     "metadata": {},
     "output_type": "execute_result"
    }
   ],
   "source": [
    "tab_1 = pd.DataFrame({})\n",
    "\n",
    "tab_1['theta'] = [70.0,  83.0,  83.0, 84.0, 84.0 , 85.0,  85.0, 86.0,  87.0]\n",
    "tab_1['tg_theta'] = np.tan(np.radians(tab_1['theta']))\n",
    "tab_1['corrente'] = np.arange(20e-3, 200e-3, 20e-3)\n",
    "\n",
    "tab_1\n"
   ]
  },
  {
   "cell_type": "code",
   "execution_count": 21,
   "metadata": {},
   "outputs": [],
   "source": [
    "tab_1_latex = tab_1.copy()\n",
    "\n",
    "tab_1_latex.drop('tg_theta', axis=1, inplace=True)\n",
    "\n",
    "tab_1_latex.rename({\n",
    "  'theta': r'$\\theta  \\pm 0.5 \\, [^\\circ]$',\n",
    "  'corrente': r'$I \\pm 0.01 \\, [A]$'\n",
    "}, axis=1, inplace=True)"
   ]
  },
  {
   "cell_type": "code",
   "execution_count": 22,
   "metadata": {},
   "outputs": [
    {
     "data": {
      "text/html": [
       "<div>\n",
       "<style scoped>\n",
       "    .dataframe tbody tr th:only-of-type {\n",
       "        vertical-align: middle;\n",
       "    }\n",
       "\n",
       "    .dataframe tbody tr th {\n",
       "        vertical-align: top;\n",
       "    }\n",
       "\n",
       "    .dataframe thead th {\n",
       "        text-align: right;\n",
       "    }\n",
       "</style>\n",
       "<table border=\"1\" class=\"dataframe\">\n",
       "  <thead>\n",
       "    <tr style=\"text-align: right;\">\n",
       "      <th></th>\n",
       "      <th>$\\theta  \\pm 0.5 \\, [^\\circ]$</th>\n",
       "      <th>$I \\pm 0.01 \\, [A]$</th>\n",
       "      <th>$tg(\\theta)\\, [^\\circ]$</th>\n",
       "    </tr>\n",
       "  </thead>\n",
       "  <tbody>\n",
       "    <tr>\n",
       "      <th>0</th>\n",
       "      <td>70.0</td>\n",
       "      <td>0.02</td>\n",
       "      <td>2.747477</td>\n",
       "    </tr>\n",
       "    <tr>\n",
       "      <th>1</th>\n",
       "      <td>83.0</td>\n",
       "      <td>0.04</td>\n",
       "      <td>8.144346</td>\n",
       "    </tr>\n",
       "    <tr>\n",
       "      <th>2</th>\n",
       "      <td>83.0</td>\n",
       "      <td>0.06</td>\n",
       "      <td>8.144346</td>\n",
       "    </tr>\n",
       "    <tr>\n",
       "      <th>3</th>\n",
       "      <td>84.0</td>\n",
       "      <td>0.08</td>\n",
       "      <td>9.514364</td>\n",
       "    </tr>\n",
       "    <tr>\n",
       "      <th>4</th>\n",
       "      <td>84.0</td>\n",
       "      <td>0.10</td>\n",
       "      <td>9.514364</td>\n",
       "    </tr>\n",
       "    <tr>\n",
       "      <th>5</th>\n",
       "      <td>85.0</td>\n",
       "      <td>0.12</td>\n",
       "      <td>11.430052</td>\n",
       "    </tr>\n",
       "    <tr>\n",
       "      <th>6</th>\n",
       "      <td>85.0</td>\n",
       "      <td>0.14</td>\n",
       "      <td>11.430052</td>\n",
       "    </tr>\n",
       "    <tr>\n",
       "      <th>7</th>\n",
       "      <td>86.0</td>\n",
       "      <td>0.16</td>\n",
       "      <td>14.300666</td>\n",
       "    </tr>\n",
       "    <tr>\n",
       "      <th>8</th>\n",
       "      <td>87.0</td>\n",
       "      <td>0.18</td>\n",
       "      <td>19.081137</td>\n",
       "    </tr>\n",
       "  </tbody>\n",
       "</table>\n",
       "</div>"
      ],
      "text/plain": [
       "   $\\theta  \\pm 0.5 \\, [^\\circ]$  $I \\pm 0.01 \\, [A]$  $tg(\\theta)\\, [^\\circ]$\n",
       "0                           70.0                 0.02                 2.747477\n",
       "1                           83.0                 0.04                 8.144346\n",
       "2                           83.0                 0.06                 8.144346\n",
       "3                           84.0                 0.08                 9.514364\n",
       "4                           84.0                 0.10                 9.514364\n",
       "5                           85.0                 0.12                11.430052\n",
       "6                           85.0                 0.14                11.430052\n",
       "7                           86.0                 0.16                14.300666\n",
       "8                           87.0                 0.18                19.081137"
      ]
     },
     "execution_count": 22,
     "metadata": {},
     "output_type": "execute_result"
    }
   ],
   "source": [
    "tab_1_latex_preenchida = tab_1_latex.copy()\n",
    "tab_1_latex_preenchida[r'$tg(\\theta)\\, [^\\circ]$'] = tab_1['tg_theta']\n",
    "\n",
    "tab_1_latex_preenchida"
   ]
  },
  {
   "cell_type": "code",
   "execution_count": 23,
   "metadata": {},
   "outputs": [
    {
     "name": "stderr",
     "output_type": "stream",
     "text": [
      "/tmp/ipykernel_24087/1880754672.py:26: FutureWarning: In future versions `DataFrame.to_latex` is expected to utilise the base implementation of `Styler.to_latex` for formatting and rendering. The arguments signature may therefore change. It is recommended instead to use `DataFrame.style.to_latex` which also contains additional functionality.\n",
      "  tab.to_latex(\n"
     ]
    }
   ],
   "source": [
    "save_tab(tab_1_latex, './tab_1_vazia.tex')\n",
    "save_tab(tab_1_latex_preenchida, './tab_1_preenchida.tex')"
   ]
  },
  {
   "cell_type": "code",
   "execution_count": 24,
   "metadata": {},
   "outputs": [
    {
     "name": "stdout",
     "output_type": "stream",
     "text": [
      " \n",
      "0.01133 x - 0.0187\n"
     ]
    }
   ],
   "source": [
    "coef, pol, reg = regressao_polinomial(\n",
    "    x=tab_1['tg_theta'], y=tab_1['corrente'], return_all=True)\n",
    "\n",
    "\n",
    "print(pol)"
   ]
  },
  {
   "cell_type": "code",
   "execution_count": 25,
   "metadata": {},
   "outputs": [],
   "source": [
    "A, B, reg, sigma_a, sigma_b =  reg_lin_manual(x=tab_1['tg_theta'], y=tab_1['corrente'], retorna_incerteza=True)"
   ]
  },
  {
   "cell_type": "code",
   "execution_count": 26,
   "metadata": {},
   "outputs": [
    {
     "data": {
      "text/plain": [
       "3.91452688924356"
      ]
     },
     "execution_count": 26,
     "metadata": {},
     "output_type": "execute_result"
    }
   ],
   "source": [
    "sigma = np.sqrt(sigma_a**2 + sigma_b**2)\n",
    "sigma*1e4"
   ]
  },
  {
   "cell_type": "code",
   "execution_count": 28,
   "metadata": {},
   "outputs": [
    {
     "data": {
      "image/png": "[encoded data removed]",
      "text/plain": [
       "<Figure size 504x360 with 1 Axes>"
      ]
     },
     "metadata": {
      "needs_background": "light"
     },
     "output_type": "display_data"
    }
   ],
   "source": [
    "f, ax = plt.subplots(figsize=(7, 5))\n",
    "\n",
    "ax.plot(tab_1['tg_theta'], tab_1['corrente'], 'o', label='Dados coletados')\n",
    "ax.plot(tab_1['tg_theta'], reg, '--',\n",
    "        label=f'Regressão linear: $y = {coef[1]:.4f} + {coef[0]:.4f}x$ ')\n",
    "\n",
    "ax.legend()\n",
    "\n",
    "add_c_grid()\n",
    "add_sci_limits(ax='y', limits=(-3, -3))\n",
    "\n",
    "ax.set(\n",
    "    xlabel=r'$tg (\\theta)\\, [^\\circ]$',\n",
    "    ylabel=r'Corrente [A]'\n",
    ")\n",
    "\n",
    "f.tight_layout()\n",
    "f.savefig('corrente-tg.pdf')\n",
    "plt.show()\n"
   ]
  },
  {
   "cell_type": "code",
   "execution_count": null,
   "metadata": {},
   "outputs": [
    {
     "name": "stdout",
     "output_type": "stream",
     "text": [
      "2.0425381390541072e-05\n"
     ]
    }
   ],
   "source": [
    "mu_0 = 1.26e-6\n",
    "N = 200\n",
    "r = 0.1\n",
    "\n",
    "c = (8/(5 * np.sqrt(5))) * ((mu_0 * N) / r)\n",
    "\n",
    "print(coef[0]*c)"
   ]
  }
 ],
 "metadata": {
  "interpreter": {
   "hash": "916dbcbb3f70747c44a77c7bcd40155683ae19c65e1c03b4aa3499c5328201f1"
  },
  "kernelspec": {
   "display_name": "Python 3.10.4 64-bit",
   "language": "python",
   "name": "python3"
  },
  "language_info": {
   "codemirror_mode": {
    "name": "ipython",
    "version": 3
   },
   "file_extension": ".py",
   "mimetype": "text/x-python",
   "name": "python",
   "nbconvert_exporter": "python",
   "pygments_lexer": "ipython3",
   "version": "3.10.4"
  },
  "orig_nbformat": 4
 },
 "nbformat": 4,
 "nbformat_minor": 2
}
