{
 "cells": [
  {
   "cell_type": "code",
   "execution_count": 1,
   "metadata": {},
   "outputs": [],
   "source": [
    "import numpy as np\n",
    "import matplotlib.pyplot as plt\n",
    "from matplotlib.patches import Circle\n",
    "from textwrap import wrap\n",
    "\n",
    "rc = {\"font.family\": \"serif\",  # fonte serifada\n",
    "      \"mathtext.fontset\": \"cm\",  # texto matemático em LaTeX\n",
    "      \"font.size\": 14,  # Usar tamanho 12 ou 14\n",
    "      \"axes.axisbelow\": True,  # grid abaixo dos dados\n",
    "      \"text.usetex\": False,\n",
    "      \"axes.grid\": True\n",
    "      }\n",
    "\n",
    "%matplotlib inline\n",
    "\n",
    "plt.rcParams.update(rc)\n"
   ]
  },
  {
   "cell_type": "code",
   "execution_count": null,
   "metadata": {},
   "outputs": [],
   "source": []
  }
 ],
 "metadata": {
  "interpreter": {
   "hash": "31f2aee4e71d21fbe5cf8b01ff0e069b9275f58929596ceb00d14d90e3e16cd6"
  },
  "kernelspec": {
   "display_name": "Python 3.10.4 64-bit",
   "language": "python",
   "name": "python3"
  },
  "language_info": {
   "codemirror_mode": {
    "name": "ipython",
    "version": 3
   },
   "file_extension": ".py",
   "mimetype": "text/x-python",
   "name": "python",
   "nbconvert_exporter": "python",
   "pygments_lexer": "ipython3",
   "version": "3.10.4"
  },
  "orig_nbformat": 4
 },
 "nbformat": 4,
 "nbformat_minor": 2
}
