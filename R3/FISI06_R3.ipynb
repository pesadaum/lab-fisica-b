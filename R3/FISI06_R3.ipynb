{
 "cells": [
  {
   "cell_type": "markdown",
   "metadata": {},
   "source": [
    "# Setup"
   ]
  },
  {
   "cell_type": "markdown",
   "metadata": {},
   "source": [
    "## Bibliotecas"
   ]
  },
  {
   "cell_type": "code",
   "execution_count": 257,
   "metadata": {},
   "outputs": [],
   "source": [
    "import numpy as np\n",
    "import matplotlib.pyplot as plt\n",
    "import pandas as pd\n",
    "\n",
    "rc = {\"font.family\": \"serif\",  # fonte serifada\n",
    "      \"mathtext.fontset\": \"cm\",  # texto matemático em LaTeX\n",
    "      \"font.size\": 14,  # Usar tamanho 12 ou 14\n",
    "      \"axes.axisbelow\": True,  # grid abaixo dos dados\n",
    "      \"text.usetex\": True,\n",
    "      \"axes.grid\": True\n",
    "      }\n",
    "\n",
    "%matplotlib inline\n",
    "\n",
    "plt.rcParams.update(rc)\n"
   ]
  },
  {
   "cell_type": "markdown",
   "metadata": {},
   "source": [
    "## Funções"
   ]
  },
  {
   "cell_type": "code",
   "execution_count": 258,
   "metadata": {},
   "outputs": [],
   "source": [
    "def regressao_polinomial(x, y, deg=1, return_all=False):\n",
    "    \"\"\"\n",
    "    - Retorna: \n",
    "      coeficientes, polinomio, regressão | regressao\n",
    "    \"\"\"\n",
    "    coeficientes = np.polyfit(x, y, deg=deg)\n",
    "    polinomio = np.poly1d(coeficientes)\n",
    "    regressao = polinomio(x)\n",
    "    return [coeficientes, polinomio, regressao] if return_all else regressao\n",
    "\n",
    "\n",
    "def add_c_grid(ax, a1=0.5, a2=0.5):\n",
    "    ax.minorticks_on()\n",
    "    ax.grid(which='major', alpha=a1)\n",
    "    ax.grid(which='minor', alpha=a2)\n",
    "\n",
    "\n",
    "def add_sci_limits(ax='both', limits=(0, 0)):\n",
    "    plt.ticklabel_format(\n",
    "        axis=ax,\n",
    "        style='sci',\n",
    "        useMathText=True,\n",
    "        scilimits=limits)\n",
    "\n",
    "\n",
    "def save_tab(tab, file, idx=True, header=True):\n",
    "    tab.to_latex(\n",
    "        buf=file,\n",
    "        bold_rows=True,\n",
    "        escape=False,\n",
    "        index=idx,\n",
    "        encoding='utf-8',\n",
    "        header=header,\n",
    "        column_format=len(tab.columns)*'c')\n"
   ]
  },
  {
   "cell_type": "markdown",
   "metadata": {},
   "source": [
    "# Coleta de dados"
   ]
  },
  {
   "cell_type": "markdown",
   "metadata": {},
   "source": [
    "## Parte 1"
   ]
  },
  {
   "cell_type": "code",
   "execution_count": 259,
   "metadata": {},
   "outputs": [],
   "source": [
    "ctes = {\n",
    "    'q1': -5e-6,\n",
    "    'q2': 5e-6,\n",
    "    'k0': 8.987552e9\n",
    "}\n"
   ]
  },
  {
   "cell_type": "code",
   "execution_count": 260,
   "metadata": {},
   "outputs": [],
   "source": [
    "tab_1 = pd.DataFrame({\n",
    "    'r(cm)': np.arange(10.0, 2.0, -1.0)\n",
    "})\n"
   ]
  },
  {
   "cell_type": "code",
   "execution_count": 261,
   "metadata": {},
   "outputs": [],
   "source": [
    "tab_1['r2(m)'] = (tab_1['r(cm)'] / 100)**2\n",
    "tab_1['1/r2(1/m)'] = 1/tab_1['r2(m)']\n"
   ]
  },
  {
   "cell_type": "code",
   "execution_count": 262,
   "metadata": {},
   "outputs": [],
   "source": [
    "\n",
    "tab_1['FE(n)'] = [22.469, 27.739, 35.108,\n",
    "                  45.855, 62.414, 89.876, 140.430, 249.564]\n"
   ]
  },
  {
   "cell_type": "code",
   "execution_count": 263,
   "metadata": {},
   "outputs": [
    {
     "data": {
      "text/html": [
       "<div>\n",
       "<style scoped>\n",
       "    .dataframe tbody tr th:only-of-type {\n",
       "        vertical-align: middle;\n",
       "    }\n",
       "\n",
       "    .dataframe tbody tr th {\n",
       "        vertical-align: top;\n",
       "    }\n",
       "\n",
       "    .dataframe thead th {\n",
       "        text-align: right;\n",
       "    }\n",
       "</style>\n",
       "<table border=\"1\" class=\"dataframe\">\n",
       "  <thead>\n",
       "    <tr style=\"text-align: right;\">\n",
       "      <th></th>\n",
       "      <th>r(cm)</th>\n",
       "      <th>r2(m)</th>\n",
       "      <th>1/r2(1/m)</th>\n",
       "      <th>FE(n)</th>\n",
       "    </tr>\n",
       "  </thead>\n",
       "  <tbody>\n",
       "    <tr>\n",
       "      <th>0</th>\n",
       "      <td>10.0</td>\n",
       "      <td>0.0100</td>\n",
       "      <td>100.000000</td>\n",
       "      <td>22.469</td>\n",
       "    </tr>\n",
       "    <tr>\n",
       "      <th>1</th>\n",
       "      <td>9.0</td>\n",
       "      <td>0.0081</td>\n",
       "      <td>123.456790</td>\n",
       "      <td>27.739</td>\n",
       "    </tr>\n",
       "    <tr>\n",
       "      <th>2</th>\n",
       "      <td>8.0</td>\n",
       "      <td>0.0064</td>\n",
       "      <td>156.250000</td>\n",
       "      <td>35.108</td>\n",
       "    </tr>\n",
       "    <tr>\n",
       "      <th>3</th>\n",
       "      <td>7.0</td>\n",
       "      <td>0.0049</td>\n",
       "      <td>204.081633</td>\n",
       "      <td>45.855</td>\n",
       "    </tr>\n",
       "    <tr>\n",
       "      <th>4</th>\n",
       "      <td>6.0</td>\n",
       "      <td>0.0036</td>\n",
       "      <td>277.777778</td>\n",
       "      <td>62.414</td>\n",
       "    </tr>\n",
       "    <tr>\n",
       "      <th>5</th>\n",
       "      <td>5.0</td>\n",
       "      <td>0.0025</td>\n",
       "      <td>400.000000</td>\n",
       "      <td>89.876</td>\n",
       "    </tr>\n",
       "    <tr>\n",
       "      <th>6</th>\n",
       "      <td>4.0</td>\n",
       "      <td>0.0016</td>\n",
       "      <td>625.000000</td>\n",
       "      <td>140.430</td>\n",
       "    </tr>\n",
       "    <tr>\n",
       "      <th>7</th>\n",
       "      <td>3.0</td>\n",
       "      <td>0.0009</td>\n",
       "      <td>1111.111111</td>\n",
       "      <td>249.564</td>\n",
       "    </tr>\n",
       "  </tbody>\n",
       "</table>\n",
       "</div>"
      ],
      "text/plain": [
       "   r(cm)   r2(m)    1/r2(1/m)    FE(n)\n",
       "0   10.0  0.0100   100.000000   22.469\n",
       "1    9.0  0.0081   123.456790   27.739\n",
       "2    8.0  0.0064   156.250000   35.108\n",
       "3    7.0  0.0049   204.081633   45.855\n",
       "4    6.0  0.0036   277.777778   62.414\n",
       "5    5.0  0.0025   400.000000   89.876\n",
       "6    4.0  0.0016   625.000000  140.430\n",
       "7    3.0  0.0009  1111.111111  249.564"
      ]
     },
     "execution_count": 263,
     "metadata": {},
     "output_type": "execute_result"
    }
   ],
   "source": [
    "tab_1\n"
   ]
  },
  {
   "cell_type": "markdown",
   "metadata": {},
   "source": [
    "## Parte 2"
   ]
  },
  {
   "cell_type": "code",
   "execution_count": 264,
   "metadata": {},
   "outputs": [],
   "source": [
    "ctes_2 = {\n",
    "    'q1': 5e-6,\n",
    "    'q2': 5e-6,\n",
    "    'r': 0.06,\n",
    "    'k0': 8.987552e9\n",
    "}\n"
   ]
  },
  {
   "cell_type": "code",
   "execution_count": 265,
   "metadata": {},
   "outputs": [],
   "source": [
    "tab_2 = pd.DataFrame({\n",
    "    'q2': np.arange(10.0, 2.0, -1.0)\n",
    "})\n"
   ]
  },
  {
   "cell_type": "code",
   "execution_count": 266,
   "metadata": {},
   "outputs": [],
   "source": [
    "tab_2['FE(N)'] = [124.827, 112.344, 99.862,\n",
    "                  87.379, 74.896, 62.414, 49.931, 37.448]\n"
   ]
  },
  {
   "cell_type": "code",
   "execution_count": 267,
   "metadata": {},
   "outputs": [
    {
     "data": {
      "text/html": [
       "<div>\n",
       "<style scoped>\n",
       "    .dataframe tbody tr th:only-of-type {\n",
       "        vertical-align: middle;\n",
       "    }\n",
       "\n",
       "    .dataframe tbody tr th {\n",
       "        vertical-align: top;\n",
       "    }\n",
       "\n",
       "    .dataframe thead th {\n",
       "        text-align: right;\n",
       "    }\n",
       "</style>\n",
       "<table border=\"1\" class=\"dataframe\">\n",
       "  <thead>\n",
       "    <tr style=\"text-align: right;\">\n",
       "      <th></th>\n",
       "      <th>q2</th>\n",
       "      <th>FE(N)</th>\n",
       "    </tr>\n",
       "  </thead>\n",
       "  <tbody>\n",
       "    <tr>\n",
       "      <th>0</th>\n",
       "      <td>10.0</td>\n",
       "      <td>124.827</td>\n",
       "    </tr>\n",
       "    <tr>\n",
       "      <th>1</th>\n",
       "      <td>9.0</td>\n",
       "      <td>112.344</td>\n",
       "    </tr>\n",
       "    <tr>\n",
       "      <th>2</th>\n",
       "      <td>8.0</td>\n",
       "      <td>99.862</td>\n",
       "    </tr>\n",
       "    <tr>\n",
       "      <th>3</th>\n",
       "      <td>7.0</td>\n",
       "      <td>87.379</td>\n",
       "    </tr>\n",
       "    <tr>\n",
       "      <th>4</th>\n",
       "      <td>6.0</td>\n",
       "      <td>74.896</td>\n",
       "    </tr>\n",
       "    <tr>\n",
       "      <th>5</th>\n",
       "      <td>5.0</td>\n",
       "      <td>62.414</td>\n",
       "    </tr>\n",
       "    <tr>\n",
       "      <th>6</th>\n",
       "      <td>4.0</td>\n",
       "      <td>49.931</td>\n",
       "    </tr>\n",
       "    <tr>\n",
       "      <th>7</th>\n",
       "      <td>3.0</td>\n",
       "      <td>37.448</td>\n",
       "    </tr>\n",
       "  </tbody>\n",
       "</table>\n",
       "</div>"
      ],
      "text/plain": [
       "     q2    FE(N)\n",
       "0  10.0  124.827\n",
       "1   9.0  112.344\n",
       "2   8.0   99.862\n",
       "3   7.0   87.379\n",
       "4   6.0   74.896\n",
       "5   5.0   62.414\n",
       "6   4.0   49.931\n",
       "7   3.0   37.448"
      ]
     },
     "execution_count": 267,
     "metadata": {},
     "output_type": "execute_result"
    }
   ],
   "source": [
    "tab_2\n"
   ]
  },
  {
   "cell_type": "markdown",
   "metadata": {},
   "source": [
    "# Análise dos resultados"
   ]
  },
  {
   "cell_type": "markdown",
   "metadata": {},
   "source": [
    "## Parte 1"
   ]
  },
  {
   "cell_type": "markdown",
   "metadata": {},
   "source": [
    "### Regressão linear manual"
   ]
  },
  {
   "cell_type": "code",
   "execution_count": 268,
   "metadata": {},
   "outputs": [],
   "source": [
    "def reg_lin_manual(x, y, retorna_incerteza=False) -> list:\n",
    "    '''\n",
    "    Calcula os coeficientes da regressão linear calculada manualmente de x e y.\n",
    "\n",
    "    # Retorna\n",
    "\n",
    "    ## retorna_incerteza = False\n",
    "     * [A, B, reg]\n",
    "\n",
    "    ## retorna_incerteza = True\n",
    "    * [A, B, reg, sigma_a, sigma_b]\n",
    "\n",
    "    # Descrição do retorno:\n",
    "    * A : Coeficiente linear\n",
    "    * B: Coeficiente angular\n",
    "    * reg: vetor de regeressão\n",
    "    * sigma_a: incerteza de A\n",
    "    * sigma_b: incerteza de B\n",
    "    '''\n",
    "\n",
    "    B = ((np.sum(x) * np.sum(y)) - (x.size * np.sum(x*y))) / \\\n",
    "        (np.sum(x)**2 - (x.size * np.sum(x**2)))\n",
    "\n",
    "    A = (np.sum(y) - B * np.sum(x)) / (x.size)\n",
    "\n",
    "    pol = np.poly1d([B, A])\n",
    "    reg = pol(x)\n",
    "\n",
    "    if retorna_incerteza:\n",
    "        S = np.sum(np.power(y - reg, 2))\n",
    "        den = (x.size * np.sum(x**2)) - (np.sum(x))**2\n",
    "\n",
    "        sigma_a = S / ((x.size - 2) * np.sqrt(den))\n",
    "        sigma_b = (S / (x.size - 2)) * np.sqrt(np.sum(x**2)/den)\n",
    "        return [A, B, reg, sigma_a, sigma_b]\n",
    "\n",
    "    return [A, B, reg]\n"
   ]
  },
  {
   "cell_type": "code",
   "execution_count": 269,
   "metadata": {},
   "outputs": [
    {
     "data": {
      "text/html": [
       "<div>\n",
       "<style scoped>\n",
       "    .dataframe tbody tr th:only-of-type {\n",
       "        vertical-align: middle;\n",
       "    }\n",
       "\n",
       "    .dataframe tbody tr th {\n",
       "        vertical-align: top;\n",
       "    }\n",
       "\n",
       "    .dataframe thead th {\n",
       "        text-align: right;\n",
       "    }\n",
       "</style>\n",
       "<table border=\"1\" class=\"dataframe\">\n",
       "  <thead>\n",
       "    <tr style=\"text-align: right;\">\n",
       "      <th></th>\n",
       "      <th>xi</th>\n",
       "      <th>yi</th>\n",
       "      <th>xi*yi</th>\n",
       "      <th>xi^2</th>\n",
       "    </tr>\n",
       "  </thead>\n",
       "  <tbody>\n",
       "    <tr>\n",
       "      <th>0</th>\n",
       "      <td>100.000000</td>\n",
       "      <td>22.469</td>\n",
       "      <td>2246.900000</td>\n",
       "      <td>1.000000e+04</td>\n",
       "    </tr>\n",
       "    <tr>\n",
       "      <th>1</th>\n",
       "      <td>123.456790</td>\n",
       "      <td>27.739</td>\n",
       "      <td>3424.567901</td>\n",
       "      <td>1.524158e+04</td>\n",
       "    </tr>\n",
       "    <tr>\n",
       "      <th>2</th>\n",
       "      <td>156.250000</td>\n",
       "      <td>35.108</td>\n",
       "      <td>5485.625000</td>\n",
       "      <td>2.441406e+04</td>\n",
       "    </tr>\n",
       "    <tr>\n",
       "      <th>3</th>\n",
       "      <td>204.081633</td>\n",
       "      <td>45.855</td>\n",
       "      <td>9358.163265</td>\n",
       "      <td>4.164931e+04</td>\n",
       "    </tr>\n",
       "    <tr>\n",
       "      <th>4</th>\n",
       "      <td>277.777778</td>\n",
       "      <td>62.414</td>\n",
       "      <td>17337.222222</td>\n",
       "      <td>7.716049e+04</td>\n",
       "    </tr>\n",
       "    <tr>\n",
       "      <th>5</th>\n",
       "      <td>400.000000</td>\n",
       "      <td>89.876</td>\n",
       "      <td>35950.400000</td>\n",
       "      <td>1.600000e+05</td>\n",
       "    </tr>\n",
       "    <tr>\n",
       "      <th>6</th>\n",
       "      <td>625.000000</td>\n",
       "      <td>140.430</td>\n",
       "      <td>87768.750000</td>\n",
       "      <td>3.906250e+05</td>\n",
       "    </tr>\n",
       "    <tr>\n",
       "      <th>7</th>\n",
       "      <td>1111.111111</td>\n",
       "      <td>249.564</td>\n",
       "      <td>277293.333333</td>\n",
       "      <td>1.234568e+06</td>\n",
       "    </tr>\n",
       "  </tbody>\n",
       "</table>\n",
       "</div>"
      ],
      "text/plain": [
       "            xi       yi          xi*yi          xi^2\n",
       "0   100.000000   22.469    2246.900000  1.000000e+04\n",
       "1   123.456790   27.739    3424.567901  1.524158e+04\n",
       "2   156.250000   35.108    5485.625000  2.441406e+04\n",
       "3   204.081633   45.855    9358.163265  4.164931e+04\n",
       "4   277.777778   62.414   17337.222222  7.716049e+04\n",
       "5   400.000000   89.876   35950.400000  1.600000e+05\n",
       "6   625.000000  140.430   87768.750000  3.906250e+05\n",
       "7  1111.111111  249.564  277293.333333  1.234568e+06"
      ]
     },
     "execution_count": 269,
     "metadata": {},
     "output_type": "execute_result"
    }
   ],
   "source": [
    "tab_3 = pd.DataFrame({\n",
    "    'xi': tab_1['1/r2(1/m)'],\n",
    "    'yi': tab_1['FE(n)'],\n",
    "    'xi*yi': tab_1['1/r2(1/m)'] * tab_1['FE(n)'],\n",
    "    'xi^2': tab_1['1/r2(1/m)']**2\n",
    "})\n",
    "\n",
    "tab_3\n"
   ]
  },
  {
   "cell_type": "code",
   "execution_count": 270,
   "metadata": {},
   "outputs": [
    {
     "data": {
      "text/plain": [
       "[2997.6773116654067, 673.4550000000002, 438864.9617220962, 1953658.3493756545]"
      ]
     },
     "execution_count": 270,
     "metadata": {},
     "output_type": "execute_result"
    }
   ],
   "source": [
    "somas_tab3 = [tab_3[i].sum() for i in tab_3]\n",
    "\n",
    "somas_tab3\n"
   ]
  },
  {
   "cell_type": "code",
   "execution_count": 271,
   "metadata": {},
   "outputs": [
    {
     "data": {
      "text/plain": [
       "(0.018883231904169406,\n",
       " 0.22460854326268434,\n",
       " 1.1578828480107641e-07,\n",
       " 0.0001618411402336728)"
      ]
     },
     "execution_count": 271,
     "metadata": {},
     "output_type": "execute_result"
    }
   ],
   "source": [
    "A, B, reg, sigma_a, sigma_b = reg_lin_manual(\n",
    "    x=tab_1['1/r2(1/m)'], y=tab_1['FE(n)'], retorna_incerteza=True)\n",
    "\n",
    "A, B, sigma_a, sigma_b\n"
   ]
  },
  {
   "cell_type": "code",
   "execution_count": 272,
   "metadata": {},
   "outputs": [
    {
     "data": {
      "text/plain": [
       "(6.473645609346912e-06, 6.4736456093469116e-06)"
      ]
     },
     "execution_count": 272,
     "metadata": {},
     "output_type": "execute_result"
    }
   ],
   "source": [
    "sigma_k0_1 = np.sqrt( (sigma_b**2) * (1/(5**2))**2 )\n",
    "x = (sigma_b) * (1/(5**2))\n",
    "\n",
    "sigma_k0_1, x"
   ]
  },
  {
   "cell_type": "code",
   "execution_count": 273,
   "metadata": {},
   "outputs": [
    {
     "data": {
      "image/png": "[encoded data removed]",
      "text/plain": [
       "<Figure size 504x360 with 1 Axes>"
      ]
     },
     "metadata": {
      "needs_background": "light"
     },
     "output_type": "display_data"
    }
   ],
   "source": [
    "f, ax = plt.subplots(figsize=(7, 5))\n",
    "\n",
    "ax.plot(tab_1['1/r2(1/m)'], tab_1['FE(n)'], 'o', label='Dados coletados')\n",
    "ax.plot(tab_1['1/r2(1/m)'], reg, ':',  label='Regressão linear')\n",
    "\n",
    "ax.set(\n",
    "    title=f'Ajuste linear:  $y = {A:.6f} + {B:.6f}x$',\n",
    "    # xticks=tab_1['1/r2(1/m)'],\n",
    "    # yticks=tab_1['FE(n)']\n",
    "    xlabel=r'$1/r^2\\, [m^{-1}]$',\n",
    "    ylabel=r'$F_E \\, [N]$')\n",
    "\n",
    "add_c_grid(ax=ax)\n",
    "\n",
    "ax.legend()\n",
    "\n",
    "f.tight_layout()\n",
    "\n",
    "f.savefig('./fig1.pdf')\n",
    "\n",
    "plt.show()\n"
   ]
  },
  {
   "cell_type": "code",
   "execution_count": 274,
   "metadata": {},
   "outputs": [
    {
     "data": {
      "text/plain": [
       "8.984341730507373"
      ]
     },
     "execution_count": 274,
     "metadata": {},
     "output_type": "execute_result"
    }
   ],
   "source": [
    "k0_exp = B/(5e-6**2)\n",
    "\n",
    "k0_exp/1e9\n"
   ]
  },
  {
   "cell_type": "code",
   "execution_count": 275,
   "metadata": {},
   "outputs": [
    {
     "data": {
      "text/plain": [
       "8987552000.0"
      ]
     },
     "execution_count": 275,
     "metadata": {},
     "output_type": "execute_result"
    }
   ],
   "source": [
    "ctes['k0']"
   ]
  },
  {
   "cell_type": "code",
   "execution_count": 276,
   "metadata": {},
   "outputs": [
    {
     "name": "stdout",
     "output_type": "stream",
     "text": [
      "0.035719\n"
     ]
    }
   ],
   "source": [
    "eta = abs(ctes['k0'] - k0_exp) / ctes['k0']\n",
    "\n",
    "print(f'{eta*100:.6f}')\n"
   ]
  },
  {
   "cell_type": "code",
   "execution_count": 277,
   "metadata": {},
   "outputs": [
    {
     "data": {
      "text/html": [
       "<div>\n",
       "<style scoped>\n",
       "    .dataframe tbody tr th:only-of-type {\n",
       "        vertical-align: middle;\n",
       "    }\n",
       "\n",
       "    .dataframe tbody tr th {\n",
       "        vertical-align: top;\n",
       "    }\n",
       "\n",
       "    .dataframe thead th {\n",
       "        text-align: right;\n",
       "    }\n",
       "</style>\n",
       "<table border=\"1\" class=\"dataframe\">\n",
       "  <thead>\n",
       "    <tr style=\"text-align: right;\">\n",
       "      <th></th>\n",
       "      <th>yi</th>\n",
       "      <th>A+Bxi</th>\n",
       "      <th>yi - a+Bxi</th>\n",
       "      <th>yi - a+Bxi^2</th>\n",
       "    </tr>\n",
       "  </thead>\n",
       "  <tbody>\n",
       "    <tr>\n",
       "      <th>0</th>\n",
       "      <td>22.469</td>\n",
       "      <td>22.479738</td>\n",
       "      <td>-0.010738</td>\n",
       "      <td>0.000115</td>\n",
       "    </tr>\n",
       "    <tr>\n",
       "      <th>1</th>\n",
       "      <td>27.739</td>\n",
       "      <td>27.748333</td>\n",
       "      <td>-0.009333</td>\n",
       "      <td>0.000087</td>\n",
       "    </tr>\n",
       "    <tr>\n",
       "      <th>2</th>\n",
       "      <td>35.108</td>\n",
       "      <td>35.113968</td>\n",
       "      <td>-0.005968</td>\n",
       "      <td>0.000036</td>\n",
       "    </tr>\n",
       "    <tr>\n",
       "      <th>3</th>\n",
       "      <td>45.855</td>\n",
       "      <td>45.857361</td>\n",
       "      <td>-0.002361</td>\n",
       "      <td>0.000006</td>\n",
       "    </tr>\n",
       "    <tr>\n",
       "      <th>4</th>\n",
       "      <td>62.414</td>\n",
       "      <td>62.410145</td>\n",
       "      <td>0.003855</td>\n",
       "      <td>0.000015</td>\n",
       "    </tr>\n",
       "    <tr>\n",
       "      <th>5</th>\n",
       "      <td>89.876</td>\n",
       "      <td>89.862301</td>\n",
       "      <td>0.013699</td>\n",
       "      <td>0.000188</td>\n",
       "    </tr>\n",
       "    <tr>\n",
       "      <th>6</th>\n",
       "      <td>140.430</td>\n",
       "      <td>140.399223</td>\n",
       "      <td>0.030777</td>\n",
       "      <td>0.000947</td>\n",
       "    </tr>\n",
       "    <tr>\n",
       "      <th>7</th>\n",
       "      <td>249.564</td>\n",
       "      <td>249.583931</td>\n",
       "      <td>-0.019931</td>\n",
       "      <td>0.000397</td>\n",
       "    </tr>\n",
       "  </tbody>\n",
       "</table>\n",
       "</div>"
      ],
      "text/plain": [
       "        yi       A+Bxi  yi - a+Bxi  yi - a+Bxi^2\n",
       "0   22.469   22.479738   -0.010738      0.000115\n",
       "1   27.739   27.748333   -0.009333      0.000087\n",
       "2   35.108   35.113968   -0.005968      0.000036\n",
       "3   45.855   45.857361   -0.002361      0.000006\n",
       "4   62.414   62.410145    0.003855      0.000015\n",
       "5   89.876   89.862301    0.013699      0.000188\n",
       "6  140.430  140.399223    0.030777      0.000947\n",
       "7  249.564  249.583931   -0.019931      0.000397"
      ]
     },
     "execution_count": 277,
     "metadata": {},
     "output_type": "execute_result"
    }
   ],
   "source": [
    "tab_4 = pd.DataFrame({\n",
    "    'yi':  tab_3['yi'],\n",
    "    'A+Bxi': reg,\n",
    "})\n",
    "\n",
    "\n",
    "tab_4['yi - a+Bxi'] = tab_4['yi'] - tab_4['A+Bxi']\n",
    "tab_4['yi - a+Bxi^2'] = tab_4['yi - a+Bxi']**2\n",
    "\n",
    "tab_4\n"
   ]
  },
  {
   "cell_type": "code",
   "execution_count": 278,
   "metadata": {},
   "outputs": [
    {
     "data": {
      "text/plain": [
       "0.0017906242183660238"
      ]
     },
     "execution_count": 278,
     "metadata": {},
     "output_type": "execute_result"
    }
   ],
   "source": [
    "soma_tab_4 = tab_4['yi - a+Bxi^2'].sum()\n",
    "\n",
    "soma_tab_4\n"
   ]
  },
  {
   "cell_type": "markdown",
   "metadata": {},
   "source": [
    "## Parte 2"
   ]
  },
  {
   "cell_type": "markdown",
   "metadata": {},
   "source": [
    "$$F_E = k_0 \\frac{q_1 \\cdot q_2}{r^2}$$"
   ]
  },
  {
   "cell_type": "markdown",
   "metadata": {},
   "source": [
    "* $y = F_E$\n",
    "* $x = q_2$\n",
    "* $A = 0$\n",
    "* $B = k_0\\dfrac{q_1}{r^2}$"
   ]
  },
  {
   "cell_type": "code",
   "execution_count": 279,
   "metadata": {},
   "outputs": [
    {
     "data": {
      "text/html": [
       "<div>\n",
       "<style scoped>\n",
       "    .dataframe tbody tr th:only-of-type {\n",
       "        vertical-align: middle;\n",
       "    }\n",
       "\n",
       "    .dataframe tbody tr th {\n",
       "        vertical-align: top;\n",
       "    }\n",
       "\n",
       "    .dataframe thead th {\n",
       "        text-align: right;\n",
       "    }\n",
       "</style>\n",
       "<table border=\"1\" class=\"dataframe\">\n",
       "  <thead>\n",
       "    <tr style=\"text-align: right;\">\n",
       "      <th></th>\n",
       "      <th>q2</th>\n",
       "      <th>FE(N)</th>\n",
       "    </tr>\n",
       "  </thead>\n",
       "  <tbody>\n",
       "    <tr>\n",
       "      <th>0</th>\n",
       "      <td>10.0</td>\n",
       "      <td>124.827</td>\n",
       "    </tr>\n",
       "    <tr>\n",
       "      <th>1</th>\n",
       "      <td>9.0</td>\n",
       "      <td>112.344</td>\n",
       "    </tr>\n",
       "    <tr>\n",
       "      <th>2</th>\n",
       "      <td>8.0</td>\n",
       "      <td>99.862</td>\n",
       "    </tr>\n",
       "    <tr>\n",
       "      <th>3</th>\n",
       "      <td>7.0</td>\n",
       "      <td>87.379</td>\n",
       "    </tr>\n",
       "    <tr>\n",
       "      <th>4</th>\n",
       "      <td>6.0</td>\n",
       "      <td>74.896</td>\n",
       "    </tr>\n",
       "    <tr>\n",
       "      <th>5</th>\n",
       "      <td>5.0</td>\n",
       "      <td>62.414</td>\n",
       "    </tr>\n",
       "    <tr>\n",
       "      <th>6</th>\n",
       "      <td>4.0</td>\n",
       "      <td>49.931</td>\n",
       "    </tr>\n",
       "    <tr>\n",
       "      <th>7</th>\n",
       "      <td>3.0</td>\n",
       "      <td>37.448</td>\n",
       "    </tr>\n",
       "  </tbody>\n",
       "</table>\n",
       "</div>"
      ],
      "text/plain": [
       "     q2    FE(N)\n",
       "0  10.0  124.827\n",
       "1   9.0  112.344\n",
       "2   8.0   99.862\n",
       "3   7.0   87.379\n",
       "4   6.0   74.896\n",
       "5   5.0   62.414\n",
       "6   4.0   49.931\n",
       "7   3.0   37.448"
      ]
     },
     "execution_count": 279,
     "metadata": {},
     "output_type": "execute_result"
    }
   ],
   "source": [
    "tab_2\n"
   ]
  },
  {
   "cell_type": "code",
   "execution_count": 280,
   "metadata": {},
   "outputs": [
    {
     "data": {
      "text/html": [
       "<div>\n",
       "<style scoped>\n",
       "    .dataframe tbody tr th:only-of-type {\n",
       "        vertical-align: middle;\n",
       "    }\n",
       "\n",
       "    .dataframe tbody tr th {\n",
       "        vertical-align: top;\n",
       "    }\n",
       "\n",
       "    .dataframe thead th {\n",
       "        text-align: right;\n",
       "    }\n",
       "</style>\n",
       "<table border=\"1\" class=\"dataframe\">\n",
       "  <thead>\n",
       "    <tr style=\"text-align: right;\">\n",
       "      <th></th>\n",
       "      <th>xi</th>\n",
       "      <th>yi</th>\n",
       "      <th>xi*yi</th>\n",
       "      <th>xi^2</th>\n",
       "    </tr>\n",
       "  </thead>\n",
       "  <tbody>\n",
       "    <tr>\n",
       "      <th>0</th>\n",
       "      <td>10.0</td>\n",
       "      <td>124.827</td>\n",
       "      <td>1248.270</td>\n",
       "      <td>100.0</td>\n",
       "    </tr>\n",
       "    <tr>\n",
       "      <th>1</th>\n",
       "      <td>9.0</td>\n",
       "      <td>112.344</td>\n",
       "      <td>1011.096</td>\n",
       "      <td>81.0</td>\n",
       "    </tr>\n",
       "    <tr>\n",
       "      <th>2</th>\n",
       "      <td>8.0</td>\n",
       "      <td>99.862</td>\n",
       "      <td>798.896</td>\n",
       "      <td>64.0</td>\n",
       "    </tr>\n",
       "    <tr>\n",
       "      <th>3</th>\n",
       "      <td>7.0</td>\n",
       "      <td>87.379</td>\n",
       "      <td>611.653</td>\n",
       "      <td>49.0</td>\n",
       "    </tr>\n",
       "    <tr>\n",
       "      <th>4</th>\n",
       "      <td>6.0</td>\n",
       "      <td>74.896</td>\n",
       "      <td>449.376</td>\n",
       "      <td>36.0</td>\n",
       "    </tr>\n",
       "    <tr>\n",
       "      <th>5</th>\n",
       "      <td>5.0</td>\n",
       "      <td>62.414</td>\n",
       "      <td>312.070</td>\n",
       "      <td>25.0</td>\n",
       "    </tr>\n",
       "    <tr>\n",
       "      <th>6</th>\n",
       "      <td>4.0</td>\n",
       "      <td>49.931</td>\n",
       "      <td>199.724</td>\n",
       "      <td>16.0</td>\n",
       "    </tr>\n",
       "    <tr>\n",
       "      <th>7</th>\n",
       "      <td>3.0</td>\n",
       "      <td>37.448</td>\n",
       "      <td>112.344</td>\n",
       "      <td>9.0</td>\n",
       "    </tr>\n",
       "  </tbody>\n",
       "</table>\n",
       "</div>"
      ],
      "text/plain": [
       "     xi       yi     xi*yi   xi^2\n",
       "0  10.0  124.827  1248.270  100.0\n",
       "1   9.0  112.344  1011.096   81.0\n",
       "2   8.0   99.862   798.896   64.0\n",
       "3   7.0   87.379   611.653   49.0\n",
       "4   6.0   74.896   449.376   36.0\n",
       "5   5.0   62.414   312.070   25.0\n",
       "6   4.0   49.931   199.724   16.0\n",
       "7   3.0   37.448   112.344    9.0"
      ]
     },
     "execution_count": 280,
     "metadata": {},
     "output_type": "execute_result"
    }
   ],
   "source": [
    "tab_5 = pd.DataFrame({\n",
    "    'xi': tab_2['q2'],\n",
    "    'yi': tab_2['FE(N)'],\n",
    "    'xi*yi': tab_2['q2'] * tab_2['FE(N)'],\n",
    "    'xi^2': tab_2['q2']**2\n",
    "})\n",
    "\n",
    "tab_5\n"
   ]
  },
  {
   "cell_type": "code",
   "execution_count": 281,
   "metadata": {},
   "outputs": [
    {
     "data": {
      "text/plain": [
       "[52.0, 649.101, 4743.429, 380.0]"
      ]
     },
     "execution_count": 281,
     "metadata": {},
     "output_type": "execute_result"
    }
   ],
   "source": [
    "somas_tab5 = ([tab_5[i].sum() for i in tab_5])\n",
    "\n",
    "somas_tab5\n"
   ]
  },
  {
   "cell_type": "code",
   "execution_count": 299,
   "metadata": {},
   "outputs": [
    {
     "data": {
      "text/plain": [
       "(0.00021428571427861698,\n",
       " 12.482678571428572,\n",
       " 4.870935049961675e-09,\n",
       " 9.495200439779647e-08)"
      ]
     },
     "execution_count": 299,
     "metadata": {},
     "output_type": "execute_result"
    }
   ],
   "source": [
    "A, B, reg, sigma_a, sigma_b = reg_lin_manual(\n",
    "    x=tab_2['q2'], y=tab_2['FE(N)'], retorna_incerteza=True)\n",
    "\n",
    "A, B, sigma_a, sigma_b"
   ]
  },
  {
   "cell_type": "code",
   "execution_count": 302,
   "metadata": {},
   "outputs": [
    {
     "data": {
      "text/plain": [
       "1.4979214285715845"
      ]
     },
     "execution_count": 302,
     "metadata": {},
     "output_type": "execute_result"
    }
   ],
   "source": [
    "sigma_k0_2 = np.sqrt(\n",
    "    (sigma_b**2)*(60e-3**2/5)**2 + \n",
    "    (0.5e-3**2)*(2*B*60e-3/5)**2)\n",
    "\n",
    "sigma_k0_2/1e-4\n"
   ]
  },
  {
   "cell_type": "code",
   "execution_count": 284,
   "metadata": {},
   "outputs": [
    {
     "data": {
      "text/plain": [
       "8.987528571428571"
      ]
     },
     "execution_count": 284,
     "metadata": {},
     "output_type": "execute_result"
    }
   ],
   "source": [
    "k0_exp_2 = B*ctes_2['r']**2/(5e-6)/1000\n",
    "k0_exp_2"
   ]
  },
  {
   "cell_type": "code",
   "execution_count": 285,
   "metadata": {},
   "outputs": [
    {
     "data": {
      "text/plain": [
       "2.606780069622846e-06"
      ]
     },
     "execution_count": 285,
     "metadata": {},
     "output_type": "execute_result"
    }
   ],
   "source": [
    "k0_exp_2 = k0_exp_2*1e9\n",
    "\n",
    "eta_2 =  abs(ctes['k0'] - k0_exp_2) / ctes['k0']\n",
    "eta_2 "
   ]
  },
  {
   "cell_type": "code",
   "execution_count": 286,
   "metadata": {},
   "outputs": [
    {
     "data": {
      "image/png": "[encoded data removed]",
      "text/plain": [
       "<Figure size 504x360 with 1 Axes>"
      ]
     },
     "metadata": {
      "needs_background": "light"
     },
     "output_type": "display_data"
    }
   ],
   "source": [
    "f, ax = plt.subplots(figsize=(7, 5))\n",
    "\n",
    "ax.plot(tab_2['q2'], tab_2['FE(N)'], 'o', label='Dados coletados')\n",
    "ax.plot(tab_2['q2'], reg, ':',  label='Regressão linear')\n",
    "\n",
    "ax.set(\n",
    "    title=f'Ajuste linear:  $y = {A:.6f} + {B:.6f}x$',\n",
    "    xlabel=r'$q_2\\, [\\mu C]$',\n",
    "    ylabel=r'$F_E \\, [N]$')\n",
    "\n",
    "add_c_grid(ax=ax)\n",
    "\n",
    "ax.legend()\n",
    "\n",
    "f.tight_layout()\n",
    "f.savefig('./fig2.pdf')\n",
    "\n",
    "plt.show()\n"
   ]
  },
  {
   "cell_type": "code",
   "execution_count": 287,
   "metadata": {},
   "outputs": [
    {
     "data": {
      "text/plain": [
       "8.987528571428573"
      ]
     },
     "execution_count": 287,
     "metadata": {},
     "output_type": "execute_result"
    }
   ],
   "source": [
    "k0_exp = B*((ctes_2['r']*1000)**2/ctes_2['q1'])\n",
    "\n",
    "k0_exp*1e-9\n"
   ]
  },
  {
   "cell_type": "code",
   "execution_count": 288,
   "metadata": {},
   "outputs": [
    {
     "name": "stdout",
     "output_type": "stream",
     "text": [
      "0.0002606780069622846\n"
     ]
    }
   ],
   "source": [
    "eta = abs(ctes['k0'] - k0_exp) / ctes['k0']\n",
    "\n",
    "print(eta*100)\n"
   ]
  },
  {
   "cell_type": "code",
   "execution_count": 289,
   "metadata": {},
   "outputs": [
    {
     "data": {
      "text/html": [
       "<div>\n",
       "<style scoped>\n",
       "    .dataframe tbody tr th:only-of-type {\n",
       "        vertical-align: middle;\n",
       "    }\n",
       "\n",
       "    .dataframe tbody tr th {\n",
       "        vertical-align: top;\n",
       "    }\n",
       "\n",
       "    .dataframe thead th {\n",
       "        text-align: right;\n",
       "    }\n",
       "</style>\n",
       "<table border=\"1\" class=\"dataframe\">\n",
       "  <thead>\n",
       "    <tr style=\"text-align: right;\">\n",
       "      <th></th>\n",
       "      <th>yi</th>\n",
       "      <th>A+Bxi</th>\n",
       "      <th>yi - a+Bxi</th>\n",
       "      <th>yi - a+Bxi^2</th>\n",
       "    </tr>\n",
       "  </thead>\n",
       "  <tbody>\n",
       "    <tr>\n",
       "      <th>0</th>\n",
       "      <td>124.827</td>\n",
       "      <td>124.827000</td>\n",
       "      <td>0.000000</td>\n",
       "      <td>0.000000e+00</td>\n",
       "    </tr>\n",
       "    <tr>\n",
       "      <th>1</th>\n",
       "      <td>112.344</td>\n",
       "      <td>112.344321</td>\n",
       "      <td>-0.000321</td>\n",
       "      <td>1.033163e-07</td>\n",
       "    </tr>\n",
       "    <tr>\n",
       "      <th>2</th>\n",
       "      <td>99.862</td>\n",
       "      <td>99.861643</td>\n",
       "      <td>0.000357</td>\n",
       "      <td>1.275510e-07</td>\n",
       "    </tr>\n",
       "    <tr>\n",
       "      <th>3</th>\n",
       "      <td>87.379</td>\n",
       "      <td>87.378964</td>\n",
       "      <td>0.000036</td>\n",
       "      <td>1.275510e-09</td>\n",
       "    </tr>\n",
       "    <tr>\n",
       "      <th>4</th>\n",
       "      <td>74.896</td>\n",
       "      <td>74.896286</td>\n",
       "      <td>-0.000286</td>\n",
       "      <td>8.163265e-08</td>\n",
       "    </tr>\n",
       "    <tr>\n",
       "      <th>5</th>\n",
       "      <td>62.414</td>\n",
       "      <td>62.413607</td>\n",
       "      <td>0.000393</td>\n",
       "      <td>1.543367e-07</td>\n",
       "    </tr>\n",
       "    <tr>\n",
       "      <th>6</th>\n",
       "      <td>49.931</td>\n",
       "      <td>49.930929</td>\n",
       "      <td>0.000071</td>\n",
       "      <td>5.102041e-09</td>\n",
       "    </tr>\n",
       "    <tr>\n",
       "      <th>7</th>\n",
       "      <td>37.448</td>\n",
       "      <td>37.448250</td>\n",
       "      <td>-0.000250</td>\n",
       "      <td>6.250000e-08</td>\n",
       "    </tr>\n",
       "  </tbody>\n",
       "</table>\n",
       "</div>"
      ],
      "text/plain": [
       "        yi       A+Bxi  yi - a+Bxi  yi - a+Bxi^2\n",
       "0  124.827  124.827000    0.000000  0.000000e+00\n",
       "1  112.344  112.344321   -0.000321  1.033163e-07\n",
       "2   99.862   99.861643    0.000357  1.275510e-07\n",
       "3   87.379   87.378964    0.000036  1.275510e-09\n",
       "4   74.896   74.896286   -0.000286  8.163265e-08\n",
       "5   62.414   62.413607    0.000393  1.543367e-07\n",
       "6   49.931   49.930929    0.000071  5.102041e-09\n",
       "7   37.448   37.448250   -0.000250  6.250000e-08"
      ]
     },
     "execution_count": 289,
     "metadata": {},
     "output_type": "execute_result"
    }
   ],
   "source": [
    "tab_6 = pd.DataFrame({\n",
    "    'yi':  tab_2['FE(N)'],\n",
    "    'A+Bxi': reg,\n",
    "})\n",
    "\n",
    "\n",
    "tab_6['yi - a+Bxi'] = tab_6['yi'] - tab_6['A+Bxi']\n",
    "tab_6['yi - a+Bxi^2'] = tab_6['yi - a+Bxi']**2\n",
    "\n",
    "tab_6\n"
   ]
  },
  {
   "cell_type": "code",
   "execution_count": 290,
   "metadata": {},
   "outputs": [
    {
     "data": {
      "text/plain": [
       "5.357142857199092e-07"
      ]
     },
     "execution_count": 290,
     "metadata": {},
     "output_type": "execute_result"
    }
   ],
   "source": [
    "soma_tab_6 = tab_6['yi - a+Bxi^2'].sum()\n",
    "\n",
    "soma_tab_6\n"
   ]
  },
  {
   "cell_type": "code",
   "execution_count": null,
   "metadata": {},
   "outputs": [],
   "source": []
  },
  {
   "cell_type": "code",
   "execution_count": null,
   "metadata": {},
   "outputs": [],
   "source": []
  },
  {
   "cell_type": "markdown",
   "metadata": {},
   "source": [
    "# Para o relatório"
   ]
  },
  {
   "cell_type": "code",
   "execution_count": 291,
   "metadata": {},
   "outputs": [
    {
     "data": {
      "text/html": [
       "<div>\n",
       "<style scoped>\n",
       "    .dataframe tbody tr th:only-of-type {\n",
       "        vertical-align: middle;\n",
       "    }\n",
       "\n",
       "    .dataframe tbody tr th {\n",
       "        vertical-align: top;\n",
       "    }\n",
       "\n",
       "    .dataframe thead th {\n",
       "        text-align: right;\n",
       "    }\n",
       "</style>\n",
       "<table border=\"1\" class=\"dataframe\">\n",
       "  <thead>\n",
       "    <tr style=\"text-align: right;\">\n",
       "      <th></th>\n",
       "      <th>yi</th>\n",
       "      <th>A+Bxi</th>\n",
       "      <th>yi - a+Bxi</th>\n",
       "      <th>yi - a+Bxi^2</th>\n",
       "    </tr>\n",
       "  </thead>\n",
       "  <tbody>\n",
       "    <tr>\n",
       "      <th>0</th>\n",
       "      <td>124.827</td>\n",
       "      <td>124.827000</td>\n",
       "      <td>0.000000</td>\n",
       "      <td>0.000000e+00</td>\n",
       "    </tr>\n",
       "    <tr>\n",
       "      <th>1</th>\n",
       "      <td>112.344</td>\n",
       "      <td>112.344321</td>\n",
       "      <td>-0.000321</td>\n",
       "      <td>1.033163e-07</td>\n",
       "    </tr>\n",
       "    <tr>\n",
       "      <th>2</th>\n",
       "      <td>99.862</td>\n",
       "      <td>99.861643</td>\n",
       "      <td>0.000357</td>\n",
       "      <td>1.275510e-07</td>\n",
       "    </tr>\n",
       "    <tr>\n",
       "      <th>3</th>\n",
       "      <td>87.379</td>\n",
       "      <td>87.378964</td>\n",
       "      <td>0.000036</td>\n",
       "      <td>1.275510e-09</td>\n",
       "    </tr>\n",
       "    <tr>\n",
       "      <th>4</th>\n",
       "      <td>74.896</td>\n",
       "      <td>74.896286</td>\n",
       "      <td>-0.000286</td>\n",
       "      <td>8.163265e-08</td>\n",
       "    </tr>\n",
       "    <tr>\n",
       "      <th>5</th>\n",
       "      <td>62.414</td>\n",
       "      <td>62.413607</td>\n",
       "      <td>0.000393</td>\n",
       "      <td>1.543367e-07</td>\n",
       "    </tr>\n",
       "    <tr>\n",
       "      <th>6</th>\n",
       "      <td>49.931</td>\n",
       "      <td>49.930929</td>\n",
       "      <td>0.000071</td>\n",
       "      <td>5.102041e-09</td>\n",
       "    </tr>\n",
       "    <tr>\n",
       "      <th>7</th>\n",
       "      <td>37.448</td>\n",
       "      <td>37.448250</td>\n",
       "      <td>-0.000250</td>\n",
       "      <td>6.250000e-08</td>\n",
       "    </tr>\n",
       "  </tbody>\n",
       "</table>\n",
       "</div>"
      ],
      "text/plain": [
       "        yi       A+Bxi  yi - a+Bxi  yi - a+Bxi^2\n",
       "0  124.827  124.827000    0.000000  0.000000e+00\n",
       "1  112.344  112.344321   -0.000321  1.033163e-07\n",
       "2   99.862   99.861643    0.000357  1.275510e-07\n",
       "3   87.379   87.378964    0.000036  1.275510e-09\n",
       "4   74.896   74.896286   -0.000286  8.163265e-08\n",
       "5   62.414   62.413607    0.000393  1.543367e-07\n",
       "6   49.931   49.930929    0.000071  5.102041e-09\n",
       "7   37.448   37.448250   -0.000250  6.250000e-08"
      ]
     },
     "execution_count": 291,
     "metadata": {},
     "output_type": "execute_result"
    }
   ],
   "source": [
    "tab_6\n"
   ]
  },
  {
   "cell_type": "code",
   "execution_count": 292,
   "metadata": {},
   "outputs": [],
   "source": [
    "t1_latex = tab_1.rename({\n",
    "    'r(cm)': r'$r \\, [cm] $',\n",
    "    'r2(m)': r'$r^2\\, [m]$',\n",
    "    '1/r2(1/m)': r'$1/r^2 \\, [m^{-1}]$',\n",
    "    'FE(n)': r'$F_E\\, [N]$'\n",
    "},\n",
    "    axis=1, inplace=False)\n"
   ]
  },
  {
   "cell_type": "code",
   "execution_count": 293,
   "metadata": {},
   "outputs": [],
   "source": [
    "t2_latex = tab_2.rename({\n",
    "    'q2': r'$q_2$',\n",
    "    'FE(N)': r'$F_E\\, [N]$'\n",
    "}, axis=1)\n"
   ]
  },
  {
   "cell_type": "code",
   "execution_count": 294,
   "metadata": {},
   "outputs": [],
   "source": [
    "t3_latex = tab_3.rename({\n",
    "    'xi': r'$x_i$',\n",
    "    'yi': r'$y_i$',\n",
    "    'xi*yi': r'$x_i \\cdot y_i$',\n",
    "    'xi^2': r'$x_i^2$'\n",
    "}, axis=1)\n"
   ]
  },
  {
   "cell_type": "code",
   "execution_count": 295,
   "metadata": {},
   "outputs": [],
   "source": [
    "t4_latex = tab_4.rename({\n",
    "    'yi': r'$y_i$',\n",
    "    'A+Bxi': r'$A+Bx_i$',\n",
    "    'yi - a+Bxi': r'$y_i - A+Bx_i$',\n",
    "    'yi - a+Bxi^2': r'$(y_i - A+Bx_i)^2$'\n",
    "}, axis=1)\n"
   ]
  },
  {
   "cell_type": "code",
   "execution_count": 296,
   "metadata": {},
   "outputs": [],
   "source": [
    "t5_latex = tab_5.rename({\n",
    "    'xi': r'$x_i$',\n",
    "    'yi': r'$y_i$',\n",
    "    'xi*yi': r'$x_i \\cdot y_i$',\n",
    "    'xi^2': r'$x_i^2$'\n",
    "}, axis=1)\n"
   ]
  },
  {
   "cell_type": "code",
   "execution_count": 297,
   "metadata": {},
   "outputs": [],
   "source": [
    "t6_latex = tab_6.rename({\n",
    "    'yi': r'$y_i$',\n",
    "    'A+Bxi': r'$A+Bx_i$',\n",
    "    'yi - a+Bxi': r'$y_i - A+Bx_i$',\n",
    "    'yi - a+Bxi^2': r'$(y_i - A+Bx_i)^2$'\n",
    "}, axis=1)\n"
   ]
  },
  {
   "cell_type": "code",
   "execution_count": 298,
   "metadata": {},
   "outputs": [
    {
     "name": "stderr",
     "output_type": "stream",
     "text": [
      "/tmp/ipykernel_10581/3837855752.py:27: FutureWarning: In future versions `DataFrame.to_latex` is expected to utilise the base implementation of `Styler.to_latex` for formatting and rendering. The arguments signature may therefore change. It is recommended instead to use `DataFrame.style.to_latex` which also contains additional functionality.\n",
      "  tab.to_latex(\n"
     ]
    }
   ],
   "source": [
    "tabs_latex = [t1_latex, t2_latex, t3_latex, t4_latex, t5_latex, t6_latex]\n",
    "\n",
    "for i in range(len(tabs_latex)):\n",
    "    save_tab(tab=tabs_latex[i], idx=False, file=f'./tab_{i+1}.tex')\n"
   ]
  }
 ],
 "metadata": {
  "interpreter": {
   "hash": "916dbcbb3f70747c44a77c7bcd40155683ae19c65e1c03b4aa3499c5328201f1"
  },
  "kernelspec": {
   "display_name": "Python 3.10.4 64-bit",
   "language": "python",
   "name": "python3"
  },
  "language_info": {
   "codemirror_mode": {
    "name": "ipython",
    "version": 3
   },
   "file_extension": ".py",
   "mimetype": "text/x-python",
   "name": "python",
   "nbconvert_exporter": "python",
   "pygments_lexer": "ipython3",
   "version": "3.10.4"
  },
  "orig_nbformat": 4
 },
 "nbformat": 4,
 "nbformat_minor": 2
}
