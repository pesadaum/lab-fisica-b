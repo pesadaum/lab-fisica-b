{
 "cells": [
  {
   "cell_type": "markdown",
   "metadata": {},
   "source": [
    "# Setup"
   ]
  },
  {
   "cell_type": "markdown",
   "metadata": {},
   "source": [
    "## Bibliotecas"
   ]
  },
  {
   "cell_type": "code",
   "execution_count": 75,
   "metadata": {},
   "outputs": [],
   "source": [
    "import numpy as np\n",
    "import matplotlib.pyplot as plt\n",
    "import pandas as pd\n",
    "\n",
    "rc = {\"font.family\": \"serif\",  # fonte serifada\n",
    "      \"mathtext.fontset\": \"cm\",  # texto matemático em LaTeX\n",
    "      \"font.size\": 14,  # Usar tamanho 12 ou 14\n",
    "      \"axes.axisbelow\": True,  # grid abaixo dos dados\n",
    "      \"text.usetex\": True,\n",
    "      \"axes.grid\": True\n",
    "      }\n",
    "\n",
    "%matplotlib inline\n",
    "\n",
    "plt.rcParams.update(rc)\n"
   ]
  },
  {
   "cell_type": "markdown",
   "metadata": {},
   "source": [
    "## Funções"
   ]
  },
  {
   "cell_type": "code",
   "execution_count": 87,
   "metadata": {},
   "outputs": [],
   "source": [
    "def regressao_polinomial(x, y, deg=1, return_all=False):\n",
    "    \"\"\"\n",
    "    - Retorna: \n",
    "      coeficientes, polinomio, regressão | regressao\n",
    "    \"\"\"\n",
    "    coeficientes = np.polyfit(x, y, deg=deg)\n",
    "    polinomio = np.poly1d(coeficientes)\n",
    "    regressao = polinomio(x)\n",
    "    return [coeficientes, polinomio, regressao] if return_all else regressao\n",
    "\n",
    "\n",
    "def add_c_grid(ax, a1=0.5, a2=0.5):\n",
    "    ax.minorticks_on()\n",
    "    ax.grid(which='major', alpha=a1)\n",
    "    ax.grid(which='minor', alpha=a2)\n",
    "\n",
    "\n",
    "def add_sci_limits(ax='both', limits=(0, 0)):\n",
    "    plt.ticklabel_format(\n",
    "        axis=ax,\n",
    "        style='sci',\n",
    "        useMathText=True,\n",
    "        scilimits=limits)\n",
    "\n",
    "def save_tab(tab, file, idx=True, header=True):\n",
    "    tab.to_latex(\n",
    "    buf=file,\n",
    "    bold_rows=True,\n",
    "    escape=False,\n",
    "    index=idx,\n",
    "    encoding='utf-8',\n",
    "    header=header,\n",
    "    column_format=len(tab.columns)*'c')"
   ]
  }
 ],
 "metadata": {
  "interpreter": {
   "hash": "916dbcbb3f70747c44a77c7bcd40155683ae19c65e1c03b4aa3499c5328201f1"
  },
  "kernelspec": {
   "display_name": "Python 3.10.4 64-bit",
   "language": "python",
   "name": "python3"
  },
  "language_info": {
   "codemirror_mode": {
    "name": "ipython",
    "version": 3
   },
   "file_extension": ".py",
   "mimetype": "text/x-python",
   "name": "python",
   "nbconvert_exporter": "python",
   "pygments_lexer": "ipython3",
   "version": "3.10.4"
  },
  "orig_nbformat": 4
 },
 "nbformat": 4,
 "nbformat_minor": 2
}
