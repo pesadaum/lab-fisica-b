{
 "cells": [
  {
   "cell_type": "markdown",
   "metadata": {},
   "source": [
    "# Setup"
   ]
  },
  {
   "cell_type": "markdown",
   "metadata": {},
   "source": [
    "## Bibliotecas"
   ]
  },
  {
   "cell_type": "code",
   "execution_count": 2,
   "metadata": {},
   "outputs": [],
   "source": [
    "import numpy as np\n",
    "import matplotlib.pyplot as plt\n",
    "import pandas as pd\n",
    "\n",
    "rc = {\"font.family\": \"serif\",  # fonte serifada\n",
    "      \"mathtext.fontset\": \"cm\",  # texto matemático em LaTeX\n",
    "      \"font.size\": 14,  # Usar tamanho 12 ou 14\n",
    "      \"axes.axisbelow\": True,  # grid abaixo dos dados\n",
    "      \"axes.grid\": True, # grid por padrão\n",
    "      \n",
    "      \"text.usetex\": True, # latex em toda a figura\n",
    "      }\n",
    "\n",
    "%matplotlib inline\n",
    "\n",
    "plt.rcParams.update(rc)\n"
   ]
  },
  {
   "cell_type": "markdown",
   "metadata": {},
   "source": [
    "## Funções"
   ]
  },
  {
   "cell_type": "code",
   "execution_count": 3,
   "metadata": {},
   "outputs": [],
   "source": [
    "def regressao_polinomial(x, y, deg=1, return_all=False):\n",
    "    \"\"\"\n",
    "    - Retorna: \n",
    "      coeficientes, polinomio, regressão | regressao\n",
    "    \"\"\"\n",
    "    coeficientes = np.polyfit(x, y, deg=deg)\n",
    "    polinomio = np.poly1d(coeficientes)\n",
    "    regressao = polinomio(x)\n",
    "    return [coeficientes, polinomio, regressao] if return_all else regressao\n",
    "\n",
    "\n",
    "def add_c_grid(ax, a1=0.5, a2=0.5):\n",
    "    ax.minorticks_on()\n",
    "    ax.grid(which='major', alpha=a1)\n",
    "    ax.grid(which='minor', alpha=a2)\n",
    "\n",
    "\n",
    "def add_sci_limits(ax, which='both', limits=(0, 0)):\n",
    "    ax.ticklabel_format(\n",
    "        axis=which,\n",
    "        style='sci',\n",
    "        useMathText=True,\n",
    "        scilimits=limits)\n",
    "\n",
    "def save_tab(tab, file, idx=True, header=True):\n",
    "    tab.to_latex(\n",
    "    buf=file,\n",
    "    bold_rows=True,\n",
    "    escape=False,\n",
    "    index=idx,\n",
    "    encoding='utf-8',\n",
    "    header=header,\n",
    "    column_format=len(tab.columns)*'c')"
   ]
  },
  {
   "cell_type": "code",
   "execution_count": 4,
   "metadata": {},
   "outputs": [],
   "source": [
    "def reg_lin_manual(x, y, retorna_incerteza=False) -> list:\n",
    "    '''\n",
    "    Calcula os coeficientes da regressão linear calculada manualmente de x e y.\n",
    "\n",
    "    # Retorna\n",
    "\n",
    "    ## retorna_incerteza = False\n",
    "     * [A, B, reg]\n",
    "\n",
    "    ## retorna_incerteza = True\n",
    "    * [A, B, reg, sigma_a, sigma_b]\n",
    "\n",
    "    # Descrição do retorno:\n",
    "    * A : Coeficiente linear\n",
    "    * B: Coeficiente angular\n",
    "    * reg: vetor de regeressão\n",
    "    * sigma_a: incerteza de A\n",
    "    * sigma_b: incerteza de B\n",
    "    '''\n",
    "\n",
    "    B = ((np.sum(x) * np.sum(y)) - (x.size * np.sum(x*y))) / \\\n",
    "        (np.sum(x)**2 - (x.size * np.sum(x**2)))\n",
    "\n",
    "    A = (np.sum(y) - B * np.sum(x)) / (x.size)\n",
    "\n",
    "    pol = np.poly1d([B, A])\n",
    "    reg = pol(x)\n",
    "\n",
    "    if retorna_incerteza:\n",
    "        S = np.sum(np.power(y - reg, 2))\n",
    "        den = (x.size * np.sum(x**2)) - (np.sum(x))**2\n",
    "\n",
    "        sigma_a = S / ((x.size - 2) * np.sqrt(den))\n",
    "        sigma_b = (S / (x.size - 2)) * np.sqrt(np.sum(x**2)/den)\n",
    "        return [A, B, reg, sigma_a, sigma_b]\n",
    "\n",
    "    return [A, B, reg]\n"
   ]
  },
  {
   "cell_type": "code",
   "execution_count": 13,
   "metadata": {},
   "outputs": [
    {
     "data": {
      "text/html": [
       "<div>\n",
       "<style scoped>\n",
       "    .dataframe tbody tr th:only-of-type {\n",
       "        vertical-align: middle;\n",
       "    }\n",
       "\n",
       "    .dataframe tbody tr th {\n",
       "        vertical-align: top;\n",
       "    }\n",
       "\n",
       "    .dataframe thead th {\n",
       "        text-align: right;\n",
       "    }\n",
       "</style>\n",
       "<table border=\"1\" class=\"dataframe\">\n",
       "  <thead>\n",
       "    <tr style=\"text-align: right;\">\n",
       "      <th></th>\n",
       "      <th>m</th>\n",
       "      <th>d1</th>\n",
       "      <th>d2</th>\n",
       "      <th>d3</th>\n",
       "      <th>dm</th>\n",
       "    </tr>\n",
       "  </thead>\n",
       "  <tbody>\n",
       "    <tr>\n",
       "      <th>0</th>\n",
       "      <td>10</td>\n",
       "      <td>4.6</td>\n",
       "      <td>4.8</td>\n",
       "      <td>4.9</td>\n",
       "      <td>4.766667</td>\n",
       "    </tr>\n",
       "    <tr>\n",
       "      <th>1</th>\n",
       "      <td>20</td>\n",
       "      <td>8.6</td>\n",
       "      <td>7.8</td>\n",
       "      <td>9.3</td>\n",
       "      <td>8.566667</td>\n",
       "    </tr>\n",
       "    <tr>\n",
       "      <th>2</th>\n",
       "      <td>30</td>\n",
       "      <td>12.1</td>\n",
       "      <td>11.1</td>\n",
       "      <td>12.9</td>\n",
       "      <td>12.033333</td>\n",
       "    </tr>\n",
       "    <tr>\n",
       "      <th>3</th>\n",
       "      <td>40</td>\n",
       "      <td>15.8</td>\n",
       "      <td>14.3</td>\n",
       "      <td>16.0</td>\n",
       "      <td>15.366667</td>\n",
       "    </tr>\n",
       "    <tr>\n",
       "      <th>4</th>\n",
       "      <td>50</td>\n",
       "      <td>19.8</td>\n",
       "      <td>17.4</td>\n",
       "      <td>19.0</td>\n",
       "      <td>18.733333</td>\n",
       "    </tr>\n",
       "    <tr>\n",
       "      <th>5</th>\n",
       "      <td>60</td>\n",
       "      <td>23.9</td>\n",
       "      <td>20.1</td>\n",
       "      <td>22.0</td>\n",
       "      <td>22.000000</td>\n",
       "    </tr>\n",
       "    <tr>\n",
       "      <th>6</th>\n",
       "      <td>70</td>\n",
       "      <td>27.0</td>\n",
       "      <td>23.0</td>\n",
       "      <td>25.0</td>\n",
       "      <td>25.000000</td>\n",
       "    </tr>\n",
       "    <tr>\n",
       "      <th>7</th>\n",
       "      <td>80</td>\n",
       "      <td>30.0</td>\n",
       "      <td>26.0</td>\n",
       "      <td>28.1</td>\n",
       "      <td>28.033333</td>\n",
       "    </tr>\n",
       "    <tr>\n",
       "      <th>8</th>\n",
       "      <td>90</td>\n",
       "      <td>33.9</td>\n",
       "      <td>28.5</td>\n",
       "      <td>31.2</td>\n",
       "      <td>31.200000</td>\n",
       "    </tr>\n",
       "    <tr>\n",
       "      <th>9</th>\n",
       "      <td>100</td>\n",
       "      <td>37.6</td>\n",
       "      <td>32.5</td>\n",
       "      <td>34.7</td>\n",
       "      <td>34.933333</td>\n",
       "    </tr>\n",
       "  </tbody>\n",
       "</table>\n",
       "</div>"
      ],
      "text/plain": [
       "     m    d1    d2    d3         dm\n",
       "0   10   4.6   4.8   4.9   4.766667\n",
       "1   20   8.6   7.8   9.3   8.566667\n",
       "2   30  12.1  11.1  12.9  12.033333\n",
       "3   40  15.8  14.3  16.0  15.366667\n",
       "4   50  19.8  17.4  19.0  18.733333\n",
       "5   60  23.9  20.1  22.0  22.000000\n",
       "6   70  27.0  23.0  25.0  25.000000\n",
       "7   80  30.0  26.0  28.1  28.033333\n",
       "8   90  33.9  28.5  31.2  31.200000\n",
       "9  100  37.6  32.5  34.7  34.933333"
      ]
     },
     "execution_count": 13,
     "metadata": {},
     "output_type": "execute_result"
    }
   ],
   "source": [
    "df = pd.DataFrame({\n",
    "    'm': range(10, 110, 10)\n",
    "})\n",
    "\n",
    "df['d1'] = [4.6, 8.6, 12.1, 15.8, 19.8, 23.9, 27.0, 30.0, 33.9, 37.6]\n",
    "df['d2'] = [4.8, 7.8, 11.1, 14.3, 17.4, 20.1, 23.0, 26.0, 28.5, 32.5]\n",
    "df['d3'] = [4.9, 9.3, 12.9, 16.0, 19.0, 22.0, 25.0, 28.1, 31.2, 34.7]\n",
    "\n",
    "df['dm'] = (df['d1'] + df['d2'] + df['d3'])/3\n",
    "\n",
    "df"
   ]
  },
  {
   "cell_type": "code",
   "execution_count": 14,
   "metadata": {},
   "outputs": [
    {
     "data": {
      "text/plain": [
       "(1.9933333333333423,\n",
       " 0.32854545454545436,\n",
       " array([ 5.27878788,  8.56424242, 11.84969697, 15.13515152, 18.42060606,\n",
       "        21.70606061, 24.99151515, 28.2769697 , 31.56242424, 34.84787879]),\n",
       " 3.1850935959409243,\n",
       " 6.249604921703448)"
      ]
     },
     "execution_count": 14,
     "metadata": {},
     "output_type": "execute_result"
    }
   ],
   "source": [
    "A, B, reg, sigma_a, sigma_b = reg_lin_manual(\n",
    "    x=df['m'], y=df['dm'], retorna_incerteza=True)\n",
    "\n",
    "A, B, reg, sigma_a*1e4, sigma_b*1e2"
   ]
  },
  {
   "cell_type": "code",
   "execution_count": 15,
   "metadata": {},
   "outputs": [
    {
     "data": {
      "image/png": "[encoded data removed]",
      "text/plain": [
       "<Figure size 648x360 with 1 Axes>"
      ]
     },
     "metadata": {
      "needs_background": "light"
     },
     "output_type": "display_data"
    }
   ],
   "source": [
    "f, ax = plt.subplots(figsize=(9,5))\n",
    "\n",
    "ax.plot(df['m'], df['d1'], 'o', label='Dados coletados ($d_m$)')\n",
    "ax.plot(df['m'], reg, '--', label='Regressão linear')\n",
    "\n",
    "ax.set(\n",
    "    title=f'Ajuste linear: $y = {A:.6f} + {B:.6f}x$',\n",
    "    xlabel='Número de franjas (m)',\n",
    "    ylabel='Distância (d) [$\\mu$m]',\n",
    "    xticks=df['m'].values\n",
    ")\n",
    "\n",
    "ax.legend()\n",
    "\n",
    "f.savefig('./dados-reg.pdf')\n",
    "\n",
    "\n",
    "plt.show()"
   ]
  },
  {
   "cell_type": "code",
   "execution_count": 16,
   "metadata": {},
   "outputs": [
    {
     "data": {
      "text/html": [
       "<div>\n",
       "<style scoped>\n",
       "    .dataframe tbody tr th:only-of-type {\n",
       "        vertical-align: middle;\n",
       "    }\n",
       "\n",
       "    .dataframe tbody tr th {\n",
       "        vertical-align: top;\n",
       "    }\n",
       "\n",
       "    .dataframe thead th {\n",
       "        text-align: right;\n",
       "    }\n",
       "</style>\n",
       "<table border=\"1\" class=\"dataframe\">\n",
       "  <thead>\n",
       "    <tr style=\"text-align: right;\">\n",
       "      <th></th>\n",
       "      <th>m</th>\n",
       "      <th>$(d_1\\pm 0.5) \\times 10^{-6}$m</th>\n",
       "      <th>$(d_2\\pm 0.5) \\times 10^{-6}$m</th>\n",
       "      <th>$(d_3\\pm 0.5) \\times 10^{-6}$m</th>\n",
       "      <th>$(d_m\\pm 0.5) \\times 10^{-6}$m</th>\n",
       "    </tr>\n",
       "  </thead>\n",
       "  <tbody>\n",
       "    <tr>\n",
       "      <th>0</th>\n",
       "      <td>10</td>\n",
       "      <td>4.6</td>\n",
       "      <td>4.8</td>\n",
       "      <td>4.9</td>\n",
       "      <td>4.766667</td>\n",
       "    </tr>\n",
       "    <tr>\n",
       "      <th>1</th>\n",
       "      <td>20</td>\n",
       "      <td>8.6</td>\n",
       "      <td>7.8</td>\n",
       "      <td>9.3</td>\n",
       "      <td>8.566667</td>\n",
       "    </tr>\n",
       "    <tr>\n",
       "      <th>2</th>\n",
       "      <td>30</td>\n",
       "      <td>12.1</td>\n",
       "      <td>11.1</td>\n",
       "      <td>12.9</td>\n",
       "      <td>12.033333</td>\n",
       "    </tr>\n",
       "    <tr>\n",
       "      <th>3</th>\n",
       "      <td>40</td>\n",
       "      <td>15.8</td>\n",
       "      <td>14.3</td>\n",
       "      <td>16.0</td>\n",
       "      <td>15.366667</td>\n",
       "    </tr>\n",
       "    <tr>\n",
       "      <th>4</th>\n",
       "      <td>50</td>\n",
       "      <td>19.8</td>\n",
       "      <td>17.4</td>\n",
       "      <td>19.0</td>\n",
       "      <td>18.733333</td>\n",
       "    </tr>\n",
       "    <tr>\n",
       "      <th>5</th>\n",
       "      <td>60</td>\n",
       "      <td>23.9</td>\n",
       "      <td>20.1</td>\n",
       "      <td>22.0</td>\n",
       "      <td>22.000000</td>\n",
       "    </tr>\n",
       "    <tr>\n",
       "      <th>6</th>\n",
       "      <td>70</td>\n",
       "      <td>27.0</td>\n",
       "      <td>23.0</td>\n",
       "      <td>25.0</td>\n",
       "      <td>25.000000</td>\n",
       "    </tr>\n",
       "    <tr>\n",
       "      <th>7</th>\n",
       "      <td>80</td>\n",
       "      <td>30.0</td>\n",
       "      <td>26.0</td>\n",
       "      <td>28.1</td>\n",
       "      <td>28.033333</td>\n",
       "    </tr>\n",
       "    <tr>\n",
       "      <th>8</th>\n",
       "      <td>90</td>\n",
       "      <td>33.9</td>\n",
       "      <td>28.5</td>\n",
       "      <td>31.2</td>\n",
       "      <td>31.200000</td>\n",
       "    </tr>\n",
       "    <tr>\n",
       "      <th>9</th>\n",
       "      <td>100</td>\n",
       "      <td>37.6</td>\n",
       "      <td>32.5</td>\n",
       "      <td>34.7</td>\n",
       "      <td>34.933333</td>\n",
       "    </tr>\n",
       "  </tbody>\n",
       "</table>\n",
       "</div>"
      ],
      "text/plain": [
       "     m  $(d_1\\pm 0.5) \\times 10^{-6}$m  $(d_2\\pm 0.5) \\times 10^{-6}$m  \\\n",
       "0   10                             4.6                             4.8   \n",
       "1   20                             8.6                             7.8   \n",
       "2   30                            12.1                            11.1   \n",
       "3   40                            15.8                            14.3   \n",
       "4   50                            19.8                            17.4   \n",
       "5   60                            23.9                            20.1   \n",
       "6   70                            27.0                            23.0   \n",
       "7   80                            30.0                            26.0   \n",
       "8   90                            33.9                            28.5   \n",
       "9  100                            37.6                            32.5   \n",
       "\n",
       "   $(d_3\\pm 0.5) \\times 10^{-6}$m  $(d_m\\pm 0.5) \\times 10^{-6}$m  \n",
       "0                             4.9                        4.766667  \n",
       "1                             9.3                        8.566667  \n",
       "2                            12.9                       12.033333  \n",
       "3                            16.0                       15.366667  \n",
       "4                            19.0                       18.733333  \n",
       "5                            22.0                       22.000000  \n",
       "6                            25.0                       25.000000  \n",
       "7                            28.1                       28.033333  \n",
       "8                            31.2                       31.200000  \n",
       "9                            34.7                       34.933333  "
      ]
     },
     "execution_count": 16,
     "metadata": {},
     "output_type": "execute_result"
    }
   ],
   "source": [
    "tab_1_tex = df.copy()\n",
    "\n",
    "tab_1_tex.columns = [\n",
    "    'm', \n",
    "    r'$(d_1\\pm 0.5) \\times 10^{-6}$m',\n",
    "    r'$(d_2\\pm 0.5) \\times 10^{-6}$m',\n",
    "    r'$(d_3\\pm 0.5) \\times 10^{-6}$m',\n",
    "    r'$(d_m\\pm 0.5) \\times 10^{-6}$m',\n",
    "]\n",
    "\n",
    "tab_1_tex"
   ]
  },
  {
   "cell_type": "code",
   "execution_count": 17,
   "metadata": {},
   "outputs": [
    {
     "name": "stderr",
     "output_type": "stream",
     "text": [
      "/tmp/ipykernel_9185/1545488325.py:26: FutureWarning: In future versions `DataFrame.to_latex` is expected to utilise the base implementation of `Styler.to_latex` for formatting and rendering. The arguments signature may therefore change. It is recommended instead to use `DataFrame.style.to_latex` which also contains additional functionality.\n",
      "  tab.to_latex(\n"
     ]
    }
   ],
   "source": [
    "save_tab(tab=tab_1_tex, file='./tab1.tex', idx=False)"
   ]
  },
  {
   "cell_type": "code",
   "execution_count": 18,
   "metadata": {},
   "outputs": [
    {
     "data": {
      "text/plain": [
       "0.6570909090909087"
      ]
     },
     "execution_count": 18,
     "metadata": {},
     "output_type": "execute_result"
    }
   ],
   "source": [
    "lambda_exp = 2*B\n",
    "lambda_exp"
   ]
  },
  {
   "cell_type": "code",
   "execution_count": 19,
   "metadata": {},
   "outputs": [
    {
     "data": {
      "text/plain": [
       "0.12499209843406897"
      ]
     },
     "execution_count": 19,
     "metadata": {},
     "output_type": "execute_result"
    }
   ],
   "source": [
    "2*sigma_b"
   ]
  },
  {
   "cell_type": "code",
   "execution_count": 20,
   "metadata": {},
   "outputs": [
    {
     "data": {
      "text/plain": [
       "3.838639236869284"
      ]
     },
     "execution_count": 20,
     "metadata": {},
     "output_type": "execute_result"
    }
   ],
   "source": [
    "eta = abs(632.8 - lambda_exp*1000)/ 632.8\n",
    "eta*100"
   ]
  }
 ],
 "metadata": {
  "interpreter": {
   "hash": "916dbcbb3f70747c44a77c7bcd40155683ae19c65e1c03b4aa3499c5328201f1"
  },
  "kernelspec": {
   "display_name": "Python 3.10.4 64-bit",
   "language": "python",
   "name": "python3"
  },
  "language_info": {
   "codemirror_mode": {
    "name": "ipython",
    "version": 3
   },
   "file_extension": ".py",
   "mimetype": "text/x-python",
   "name": "python",
   "nbconvert_exporter": "python",
   "pygments_lexer": "ipython3",
   "version": "3.10.4"
  },
  "orig_nbformat": 4
 },
 "nbformat": 4,
 "nbformat_minor": 2
}
