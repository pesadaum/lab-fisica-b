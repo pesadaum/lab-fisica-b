{
 "cells": [
  {
   "cell_type": "code",
   "execution_count": 3,
   "metadata": {},
   "outputs": [
    {
     "data": {
      "text/plain": [
       "False"
      ]
     },
     "execution_count": 3,
     "metadata": {},
     "output_type": "execute_result"
    }
   ],
   "source": [
    "import numpy as np\n",
    "import matplotlib.pyplot as plt\n",
    "import pandas as pd\n",
    "\n",
    "rc = {\"font.family\": \"serif\",  # fonte serifada\n",
    "      \"mathtext.fontset\": \"cm\",  # texto matemático em LaTeX\n",
    "      \"font.size\": 14,  # Usar tamanho 12 ou 14\n",
    "      \"axes.axisbelow\": True,  # grid abaixo dos dados\n",
    "      \"text.usetex\": True,\n",
    "      \"axes.grid\": True\n",
    "      }\n",
    "\n",
    "%matplotlib inline\n",
    "\n",
    "plt.rcParams.update(rc)\n",
    "\n",
    "x = np.arange(-10, 11, 1)\n",
    "y = x**2\n"
   ]
  },
  {
   "cell_type": "markdown",
   "metadata": {},
   "source": [
    "# Coleta dos dados"
   ]
  },
  {
   "cell_type": "markdown",
   "metadata": {},
   "source": [
    "## Área e capacitância equivalente"
   ]
  },
  {
   "cell_type": "code",
   "execution_count": 2,
   "metadata": {},
   "outputs": [
    {
     "data": {
      "text/plain": [
       "25221.20847784343"
      ]
     },
     "execution_count": 2,
     "metadata": {},
     "output_type": "execute_result"
    }
   ],
   "source": [
    "area = np.pi * 89.60**2\n",
    "c_eq = 111e-12\n",
    "\n",
    "area\n"
   ]
  },
  {
   "cell_type": "markdown",
   "metadata": {},
   "source": [
    "## Tabela 1 vazia"
   ]
  },
  {
   "cell_type": "code",
   "execution_count": 3,
   "metadata": {},
   "outputs": [
    {
     "data": {
      "text/html": [
       "<div>\n",
       "<style scoped>\n",
       "    .dataframe tbody tr th:only-of-type {\n",
       "        vertical-align: middle;\n",
       "    }\n",
       "\n",
       "    .dataframe tbody tr th {\n",
       "        vertical-align: top;\n",
       "    }\n",
       "\n",
       "    .dataframe thead th {\n",
       "        text-align: right;\n",
       "    }\n",
       "</style>\n",
       "<table border=\"1\" class=\"dataframe\">\n",
       "  <thead>\n",
       "    <tr style=\"text-align: right;\">\n",
       "      <th></th>\n",
       "      <th>d</th>\n",
       "      <th>C_0</th>\n",
       "    </tr>\n",
       "  </thead>\n",
       "  <tbody>\n",
       "    <tr>\n",
       "      <th>0</th>\n",
       "      <td>1</td>\n",
       "      <td>150</td>\n",
       "    </tr>\n",
       "    <tr>\n",
       "      <th>1</th>\n",
       "      <td>2</td>\n",
       "      <td>93</td>\n",
       "    </tr>\n",
       "    <tr>\n",
       "      <th>2</th>\n",
       "      <td>4</td>\n",
       "      <td>55</td>\n",
       "    </tr>\n",
       "  </tbody>\n",
       "</table>\n",
       "</div>"
      ],
      "text/plain": [
       "   d  C_0\n",
       "0  1  150\n",
       "1  2   93\n",
       "2  4   55"
      ]
     },
     "execution_count": 3,
     "metadata": {},
     "output_type": "execute_result"
    }
   ],
   "source": [
    "\n",
    "\n",
    "tab_1 = pd.DataFrame({})\n",
    "\n",
    "tab_1['d'] = [1, 2, 4, 6, 8, 10, 12, 14, 16, 18, 20]\n",
    "tab_1['C_0'] = np.array([150, 93, 55, 40, 32, 27, 23, 21, 19, 17, 16]) #* 1e-12\n",
    "\n",
    "tab_1.head(3)\n"
   ]
  },
  {
   "cell_type": "code",
   "execution_count": 4,
   "metadata": {},
   "outputs": [],
   "source": [
    "def regressao_polinomial(x, y, deg=1, return_all=False):\n",
    "    \"\"\"\n",
    "    - Retorna: \n",
    "      coeficientes, polinomio, regressão | regressao\n",
    "    \"\"\"\n",
    "    coeficientes = np.polyfit(x, y, deg=deg)\n",
    "    polinomio = np.poly1d(coeficientes)\n",
    "    regressao = polinomio(x)\n",
    "    return [coeficientes, polinomio, regressao] if return_all else regressao\n"
   ]
  },
  {
   "cell_type": "markdown",
   "metadata": {},
   "source": [
    "## Tabela 2 cheia"
   ]
  },
  {
   "cell_type": "code",
   "execution_count": 5,
   "metadata": {},
   "outputs": [
    {
     "data": {
      "text/html": [
       "<div>\n",
       "<style scoped>\n",
       "    .dataframe tbody tr th:only-of-type {\n",
       "        vertical-align: middle;\n",
       "    }\n",
       "\n",
       "    .dataframe tbody tr th {\n",
       "        vertical-align: top;\n",
       "    }\n",
       "\n",
       "    .dataframe thead th {\n",
       "        text-align: right;\n",
       "    }\n",
       "</style>\n",
       "<table border=\"1\" class=\"dataframe\">\n",
       "  <thead>\n",
       "    <tr style=\"text-align: right;\">\n",
       "      <th></th>\n",
       "      <th>d</th>\n",
       "      <th>C_1</th>\n",
       "      <th>C_2</th>\n",
       "    </tr>\n",
       "  </thead>\n",
       "  <tbody>\n",
       "    <tr>\n",
       "      <th>0</th>\n",
       "      <td>1</td>\n",
       "      <td>160</td>\n",
       "      <td>159</td>\n",
       "    </tr>\n",
       "    <tr>\n",
       "      <th>1</th>\n",
       "      <td>2</td>\n",
       "      <td>145</td>\n",
       "      <td>126</td>\n",
       "    </tr>\n",
       "    <tr>\n",
       "      <th>2</th>\n",
       "      <td>3</td>\n",
       "      <td>127</td>\n",
       "      <td>106</td>\n",
       "    </tr>\n",
       "    <tr>\n",
       "      <th>3</th>\n",
       "      <td>4</td>\n",
       "      <td>122</td>\n",
       "      <td>94</td>\n",
       "    </tr>\n",
       "    <tr>\n",
       "      <th>4</th>\n",
       "      <td>5</td>\n",
       "      <td>110</td>\n",
       "      <td>83</td>\n",
       "    </tr>\n",
       "    <tr>\n",
       "      <th>5</th>\n",
       "      <td>6</td>\n",
       "      <td>103</td>\n",
       "      <td>75</td>\n",
       "    </tr>\n",
       "  </tbody>\n",
       "</table>\n",
       "</div>"
      ],
      "text/plain": [
       "   d  C_1  C_2\n",
       "0  1  160  159\n",
       "1  2  145  126\n",
       "2  3  127  106\n",
       "3  4  122   94\n",
       "4  5  110   83\n",
       "5  6  103   75"
      ]
     },
     "execution_count": 5,
     "metadata": {},
     "output_type": "execute_result"
    }
   ],
   "source": [
    "tab_2 = pd.DataFrame({})\n",
    "\n",
    "tab_2['d'] = range(1, 7)\n",
    "tab_2['C_1'] = np.array([160, 145, 127, 122, 110, 103]) #* 1e-12\n",
    "tab_2['C_2'] = np.array([159, 126, 106, 94, 83, 75]) #* 1e-12\n",
    "\n",
    "tab_2\n"
   ]
  },
  {
   "cell_type": "markdown",
   "metadata": {},
   "source": [
    "# Gráficos"
   ]
  },
  {
   "cell_type": "markdown",
   "metadata": {},
   "source": [
    "## Capacitor vazio"
   ]
  },
  {
   "cell_type": "code",
   "execution_count": 6,
   "metadata": {},
   "outputs": [
    {
     "data": {
      "image/png": "[encoded data removed]",
      "text/plain": [
       "<Figure size 1008x432 with 2 Axes>"
      ]
     },
     "metadata": {
      "needs_background": "light"
     },
     "output_type": "display_data"
    }
   ],
   "source": [
    "f, ax = plt.subplots(ncols=2,figsize=(14,6))\n",
    "\n",
    "ax[0].plot(\n",
    "  tab_1['d'], tab_1['C_0'], \n",
    "  '-o',\n",
    "  label='Capacitor $C_0$ (Vazio)',)\n",
    "\n",
    "ax[1].plot(\n",
    "    1/tab_1['d'], tab_1['C_0'],\n",
    "    '-o',\n",
    "    label='Capacitor $C_0$ (Vazio)',)\n",
    "\n",
    "ax[0].set_xticks(tab_1['d'])\n",
    "ax[0].set_xlabel('$d[mm]$')\n",
    "ax[0].set_title(r'Capacitância $\\times$ distância')\n",
    "\n",
    "ax[1].set_title(r'Capacitância $\\times$ inverso da distância')\n",
    "\n",
    "ax[1].set_xlabel('$1/d [mm^{-1}]$')\n",
    "\n",
    "for a in ax.flat:\n",
    "  a.legend(loc='best')\n",
    "  a.set(ylabel='Capacitância $[pF]$')\n",
    "  \n",
    "f.tight_layout()\n",
    "f.savefig('cap-c0.pdf')\n",
    "plt.show()"
   ]
  },
  {
   "cell_type": "markdown",
   "metadata": {},
   "source": [
    "## Capacitor com papel e com plástico"
   ]
  },
  {
   "cell_type": "code",
   "execution_count": 7,
   "metadata": {},
   "outputs": [],
   "source": [
    "coef_c1, pol_c1, reg_c1 = regressao_polinomial(\n",
    "    x=(1/tab_2['d'])*100, y=tab_2['C_1'], return_all=True)\n",
    "coef_c2, pol_c2, reg_c2 = regressao_polinomial(\n",
    "    x=1/tab_2['d']*100, y=tab_2['C_2'], return_all=True)\n"
   ]
  },
  {
   "cell_type": "code",
   "execution_count": 8,
   "metadata": {},
   "outputs": [
    {
     "name": "stdout",
     "output_type": "stream",
     "text": [
      " \n",
      "0.6377 x + 101.8 \n",
      "  \n",
      "0.9649 x + 67.77\n"
     ]
    }
   ],
   "source": [
    "print(pol_c1, '\\n', pol_c2,)\n"
   ]
  },
  {
   "cell_type": "code",
   "execution_count": 9,
   "metadata": {},
   "outputs": [
    {
     "data": {
      "image/png": "[encoded data removed]",
      "text/plain": [
       "<Figure size 648x432 with 1 Axes>"
      ]
     },
     "metadata": {
      "needs_background": "light"
     },
     "output_type": "display_data"
    }
   ],
   "source": [
    "f, ax = plt.subplots(figsize=(9, 6))\n",
    "\n",
    "ax.plot(1/tab_2['d'], tab_2['C_1'], 'o',\n",
    "        label='Capacitor $C_1$ (Papel)', color='#003A70')\n",
    "ax.plot(1/tab_2['d'], tab_2['C_2'], 'o',\n",
    "        label='Capacitor $C_2$ (Plástico)', color='#F50000')\n",
    "\n",
    "\n",
    "ax.plot(1/tab_2['d'], reg_c1,  ':',\n",
    "        label=f'Regressão de $C_1$ com $K_1 = {coef_c1[0].round(3)}$', color='#003A70')\n",
    "ax.plot(1/tab_2['d'], reg_c2,  ':',\n",
    "        label=f'Regressão de $C_2$ com $K_2 = {coef_c2[0].round(3)}$', color='#F50000')\n",
    "\n",
    "ax.set(\n",
    "    title=r'Gráfico de Capacitância $\\times$ inverso da distância',\n",
    "    xlabel=r'$1/d\\, [mm^{-1}]$',\n",
    "    ylabel=r'Capacitância $[pF]$'\n",
    ")\n",
    "\n",
    "ax.legend(loc='lower right')\n",
    "\n",
    "f.tight_layout()\n",
    "f.savefig('c0-c1.pdf')\n",
    "\n",
    "plt.show()\n"
   ]
  },
  {
   "cell_type": "markdown",
   "metadata": {},
   "source": [
    "## Completando a tabela 1"
   ]
  },
  {
   "cell_type": "code",
   "execution_count": 10,
   "metadata": {},
   "outputs": [
    {
     "data": {
      "text/html": [
       "<div>\n",
       "<style scoped>\n",
       "    .dataframe tbody tr th:only-of-type {\n",
       "        vertical-align: middle;\n",
       "    }\n",
       "\n",
       "    .dataframe tbody tr th {\n",
       "        vertical-align: top;\n",
       "    }\n",
       "\n",
       "    .dataframe thead th {\n",
       "        text-align: right;\n",
       "    }\n",
       "</style>\n",
       "<table border=\"1\" class=\"dataframe\">\n",
       "  <thead>\n",
       "    <tr style=\"text-align: right;\">\n",
       "      <th></th>\n",
       "      <th>d</th>\n",
       "      <th>C_0</th>\n",
       "      <th>C_1</th>\n",
       "      <th>C_2</th>\n",
       "    </tr>\n",
       "  </thead>\n",
       "  <tbody>\n",
       "    <tr>\n",
       "      <th>0</th>\n",
       "      <td>1</td>\n",
       "      <td>150</td>\n",
       "      <td>95.652051</td>\n",
       "      <td>144.738331</td>\n",
       "    </tr>\n",
       "    <tr>\n",
       "      <th>1</th>\n",
       "      <td>2</td>\n",
       "      <td>93</td>\n",
       "      <td>59.304272</td>\n",
       "      <td>89.737765</td>\n",
       "    </tr>\n",
       "    <tr>\n",
       "      <th>2</th>\n",
       "      <td>4</td>\n",
       "      <td>55</td>\n",
       "      <td>35.072419</td>\n",
       "      <td>53.070721</td>\n",
       "    </tr>\n",
       "    <tr>\n",
       "      <th>3</th>\n",
       "      <td>6</td>\n",
       "      <td>40</td>\n",
       "      <td>25.507214</td>\n",
       "      <td>38.596888</td>\n",
       "    </tr>\n",
       "    <tr>\n",
       "      <th>4</th>\n",
       "      <td>8</td>\n",
       "      <td>32</td>\n",
       "      <td>20.405771</td>\n",
       "      <td>30.877511</td>\n",
       "    </tr>\n",
       "    <tr>\n",
       "      <th>5</th>\n",
       "      <td>10</td>\n",
       "      <td>27</td>\n",
       "      <td>17.217369</td>\n",
       "      <td>26.052900</td>\n",
       "    </tr>\n",
       "    <tr>\n",
       "      <th>6</th>\n",
       "      <td>12</td>\n",
       "      <td>23</td>\n",
       "      <td>14.666648</td>\n",
       "      <td>22.193211</td>\n",
       "    </tr>\n",
       "    <tr>\n",
       "      <th>7</th>\n",
       "      <td>14</td>\n",
       "      <td>21</td>\n",
       "      <td>13.391287</td>\n",
       "      <td>20.263366</td>\n",
       "    </tr>\n",
       "    <tr>\n",
       "      <th>8</th>\n",
       "      <td>16</td>\n",
       "      <td>19</td>\n",
       "      <td>12.115926</td>\n",
       "      <td>18.333522</td>\n",
       "    </tr>\n",
       "    <tr>\n",
       "      <th>9</th>\n",
       "      <td>18</td>\n",
       "      <td>17</td>\n",
       "      <td>10.840566</td>\n",
       "      <td>16.403678</td>\n",
       "    </tr>\n",
       "    <tr>\n",
       "      <th>10</th>\n",
       "      <td>20</td>\n",
       "      <td>16</td>\n",
       "      <td>10.202885</td>\n",
       "      <td>15.438755</td>\n",
       "    </tr>\n",
       "  </tbody>\n",
       "</table>\n",
       "</div>"
      ],
      "text/plain": [
       "     d  C_0        C_1         C_2\n",
       "0    1  150  95.652051  144.738331\n",
       "1    2   93  59.304272   89.737765\n",
       "2    4   55  35.072419   53.070721\n",
       "3    6   40  25.507214   38.596888\n",
       "4    8   32  20.405771   30.877511\n",
       "5   10   27  17.217369   26.052900\n",
       "6   12   23  14.666648   22.193211\n",
       "7   14   21  13.391287   20.263366\n",
       "8   16   19  12.115926   18.333522\n",
       "9   18   17  10.840566   16.403678\n",
       "10  20   16  10.202885   15.438755"
      ]
     },
     "execution_count": 10,
     "metadata": {},
     "output_type": "execute_result"
    }
   ],
   "source": [
    "tab_1['C_1'] = tab_1['C_0'] * coef_c1[0]\n",
    "tab_1['C_2'] = tab_1['C_0'] * coef_c2[0]\n",
    "\n",
    "tab_1"
   ]
  },
  {
   "cell_type": "markdown",
   "metadata": {},
   "source": [
    "## Todos os capacitores"
   ]
  },
  {
   "cell_type": "code",
   "execution_count": 11,
   "metadata": {},
   "outputs": [
    {
     "data": {
      "image/png": "[encoded data removed]",
      "text/plain": [
       "<Figure size 1008x360 with 2 Axes>"
      ]
     },
     "metadata": {
      "needs_background": "light"
     },
     "output_type": "display_data"
    }
   ],
   "source": [
    "f, ax = plt.subplots(ncols=2,figsize=(14,5))\n",
    "\n",
    "ax[0].plot(\n",
    "  tab_1['d'], tab_1['C_0'], \n",
    "  '-o',\n",
    "  label='Capacitor $C_0$ (Vazio)',)\n",
    "\n",
    "ax[0].plot(\n",
    "    tab_1['d'], tab_1['C_1'],\n",
    "    '-o',\n",
    "    label='Capacitor $C_1$ (Papel)',\n",
    ")\n",
    "ax[0].plot(\n",
    "    tab_1['d'], tab_1['C_2'],\n",
    "    '-o',\n",
    "    label='Capacitor $C_2$ (Plástico)',\n",
    ")\n",
    "\n",
    "ax[1].plot(\n",
    "    1/tab_1['d'], tab_1['C_0'],\n",
    "    '-o',\n",
    "    label='Capacitor $C_0$ (Vazio)',)\n",
    "\n",
    "ax[1].plot(\n",
    "    1/tab_1['d'], tab_1['C_1'],\n",
    "    '-o',\n",
    "    label='Capacitor $C_1$ (Papel)',\n",
    ")\n",
    "ax[1].plot(\n",
    "    1/tab_1['d'], tab_1['C_2'],\n",
    "    '-o',\n",
    "    label='Capacitor $C_2$ (Plástico)',\n",
    ")\n",
    "\n",
    "ax[0].set_xticks(tab_1['d'])\n",
    "ax[0].set_xlabel('$d[mm]$')\n",
    "ax[0].set_title(r'Capacitância $\\times$ distância')\n",
    "\n",
    "ax[1].set_title(r'Capacitância $\\times$ inverso da distância')\n",
    "\n",
    "ax[1].set_xlabel('$1/d [mm^{-1}]$')\n",
    "\n",
    "for a in ax.flat:\n",
    "  a.legend(loc='best')\n",
    "  a.set(ylabel='Capacitância $[pF]$')\n",
    "  \n",
    "f.tight_layout()\n",
    "f.savefig('todos.pdf')\n",
    "plt.show()"
   ]
  },
  {
   "cell_type": "markdown",
   "metadata": {},
   "source": [
    "# Exportando as Tabelas"
   ]
  },
  {
   "cell_type": "code",
   "execution_count": 12,
   "metadata": {},
   "outputs": [
    {
     "data": {
      "text/html": [
       "<div>\n",
       "<style scoped>\n",
       "    .dataframe tbody tr th:only-of-type {\n",
       "        vertical-align: middle;\n",
       "    }\n",
       "\n",
       "    .dataframe tbody tr th {\n",
       "        vertical-align: top;\n",
       "    }\n",
       "\n",
       "    .dataframe thead th {\n",
       "        text-align: right;\n",
       "    }\n",
       "</style>\n",
       "<table border=\"1\" class=\"dataframe\">\n",
       "  <thead>\n",
       "    <tr style=\"text-align: right;\">\n",
       "      <th></th>\n",
       "      <th>$d\\, [mm]$</th>\n",
       "      <th>$C_0\\, [pF]$</th>\n",
       "      <th>$C_1\\, [pF]$</th>\n",
       "      <th>$C_2\\, [pF]$</th>\n",
       "    </tr>\n",
       "  </thead>\n",
       "  <tbody>\n",
       "    <tr>\n",
       "      <th>0</th>\n",
       "      <td>1</td>\n",
       "      <td>150</td>\n",
       "      <td>96.0</td>\n",
       "      <td>145.0</td>\n",
       "    </tr>\n",
       "    <tr>\n",
       "      <th>1</th>\n",
       "      <td>2</td>\n",
       "      <td>93</td>\n",
       "      <td>59.0</td>\n",
       "      <td>90.0</td>\n",
       "    </tr>\n",
       "    <tr>\n",
       "      <th>2</th>\n",
       "      <td>4</td>\n",
       "      <td>55</td>\n",
       "      <td>35.0</td>\n",
       "      <td>53.0</td>\n",
       "    </tr>\n",
       "    <tr>\n",
       "      <th>3</th>\n",
       "      <td>6</td>\n",
       "      <td>40</td>\n",
       "      <td>26.0</td>\n",
       "      <td>39.0</td>\n",
       "    </tr>\n",
       "    <tr>\n",
       "      <th>4</th>\n",
       "      <td>8</td>\n",
       "      <td>32</td>\n",
       "      <td>20.0</td>\n",
       "      <td>31.0</td>\n",
       "    </tr>\n",
       "    <tr>\n",
       "      <th>5</th>\n",
       "      <td>10</td>\n",
       "      <td>27</td>\n",
       "      <td>17.0</td>\n",
       "      <td>26.0</td>\n",
       "    </tr>\n",
       "    <tr>\n",
       "      <th>6</th>\n",
       "      <td>12</td>\n",
       "      <td>23</td>\n",
       "      <td>15.0</td>\n",
       "      <td>22.0</td>\n",
       "    </tr>\n",
       "    <tr>\n",
       "      <th>7</th>\n",
       "      <td>14</td>\n",
       "      <td>21</td>\n",
       "      <td>13.0</td>\n",
       "      <td>20.0</td>\n",
       "    </tr>\n",
       "    <tr>\n",
       "      <th>8</th>\n",
       "      <td>16</td>\n",
       "      <td>19</td>\n",
       "      <td>12.0</td>\n",
       "      <td>18.0</td>\n",
       "    </tr>\n",
       "    <tr>\n",
       "      <th>9</th>\n",
       "      <td>18</td>\n",
       "      <td>17</td>\n",
       "      <td>11.0</td>\n",
       "      <td>16.0</td>\n",
       "    </tr>\n",
       "    <tr>\n",
       "      <th>10</th>\n",
       "      <td>20</td>\n",
       "      <td>16</td>\n",
       "      <td>10.0</td>\n",
       "      <td>15.0</td>\n",
       "    </tr>\n",
       "  </tbody>\n",
       "</table>\n",
       "</div>"
      ],
      "text/plain": [
       "    $d\\, [mm]$  $C_0\\, [pF]$  $C_1\\, [pF]$  $C_2\\, [pF]$\n",
       "0            1           150          96.0         145.0\n",
       "1            2            93          59.0          90.0\n",
       "2            4            55          35.0          53.0\n",
       "3            6            40          26.0          39.0\n",
       "4            8            32          20.0          31.0\n",
       "5           10            27          17.0          26.0\n",
       "6           12            23          15.0          22.0\n",
       "7           14            21          13.0          20.0\n",
       "8           16            19          12.0          18.0\n",
       "9           18            17          11.0          16.0\n",
       "10          20            16          10.0          15.0"
      ]
     },
     "execution_count": 12,
     "metadata": {},
     "output_type": "execute_result"
    }
   ],
   "source": [
    "tab_1_latex = tab_1.rename({\n",
    "  'd': '$d\\, [mm]$',\n",
    "  'C_0': '$C_0\\, [pF]$',\n",
    "  'C_1': '$C_1\\, [pF]$',\n",
    "  'C_2': '$C_2\\, [pF]$'\n",
    "}, axis=1)\n",
    "\n",
    "\n",
    "tab_1_latex.iloc[:, 1:] = round(tab_1_latex.iloc[:, 1:])\n",
    "\n",
    "tab_1_latex"
   ]
  },
  {
   "cell_type": "code",
   "execution_count": 13,
   "metadata": {},
   "outputs": [
    {
     "name": "stderr",
     "output_type": "stream",
     "text": [
      "/tmp/ipykernel_9713/1967370205.py:1: FutureWarning: In future versions `DataFrame.to_latex` is expected to utilise the base implementation of `Styler.to_latex` for formatting and rendering. The arguments signature may therefore change. It is recommended instead to use `DataFrame.style.to_latex` which also contains additional functionality.\n",
      "  tab_1_latex.T.to_latex(\n"
     ]
    }
   ],
   "source": [
    "\n",
    "tab_1_latex.T.to_latex(\n",
    "  buf='./tab_1_preenchida.tex',\n",
    "  bold_rows=True,\n",
    "  escape=False,\n",
    "  index=True,\n",
    "  encoding='utf-8',\n",
    "  header=False\n",
    ")"
   ]
  },
  {
   "cell_type": "code",
   "execution_count": 14,
   "metadata": {},
   "outputs": [
    {
     "data": {
      "text/html": [
       "<div>\n",
       "<style scoped>\n",
       "    .dataframe tbody tr th:only-of-type {\n",
       "        vertical-align: middle;\n",
       "    }\n",
       "\n",
       "    .dataframe tbody tr th {\n",
       "        vertical-align: top;\n",
       "    }\n",
       "\n",
       "    .dataframe thead th {\n",
       "        text-align: right;\n",
       "    }\n",
       "</style>\n",
       "<table border=\"1\" class=\"dataframe\">\n",
       "  <thead>\n",
       "    <tr style=\"text-align: right;\">\n",
       "      <th></th>\n",
       "      <th>$d\\, [mm]$</th>\n",
       "      <th>$C_0\\, [pF]$</th>\n",
       "      <th>$C_1\\, [pF]$</th>\n",
       "      <th>$C_2\\, [pF]$</th>\n",
       "    </tr>\n",
       "  </thead>\n",
       "  <tbody>\n",
       "    <tr>\n",
       "      <th>0</th>\n",
       "      <td>1</td>\n",
       "      <td>150</td>\n",
       "      <td>-</td>\n",
       "      <td>-</td>\n",
       "    </tr>\n",
       "    <tr>\n",
       "      <th>1</th>\n",
       "      <td>2</td>\n",
       "      <td>93</td>\n",
       "      <td>-</td>\n",
       "      <td>-</td>\n",
       "    </tr>\n",
       "    <tr>\n",
       "      <th>2</th>\n",
       "      <td>4</td>\n",
       "      <td>55</td>\n",
       "      <td>-</td>\n",
       "      <td>-</td>\n",
       "    </tr>\n",
       "    <tr>\n",
       "      <th>3</th>\n",
       "      <td>6</td>\n",
       "      <td>40</td>\n",
       "      <td>-</td>\n",
       "      <td>-</td>\n",
       "    </tr>\n",
       "    <tr>\n",
       "      <th>4</th>\n",
       "      <td>8</td>\n",
       "      <td>32</td>\n",
       "      <td>-</td>\n",
       "      <td>-</td>\n",
       "    </tr>\n",
       "    <tr>\n",
       "      <th>5</th>\n",
       "      <td>10</td>\n",
       "      <td>27</td>\n",
       "      <td>-</td>\n",
       "      <td>-</td>\n",
       "    </tr>\n",
       "    <tr>\n",
       "      <th>6</th>\n",
       "      <td>12</td>\n",
       "      <td>23</td>\n",
       "      <td>-</td>\n",
       "      <td>-</td>\n",
       "    </tr>\n",
       "    <tr>\n",
       "      <th>7</th>\n",
       "      <td>14</td>\n",
       "      <td>21</td>\n",
       "      <td>-</td>\n",
       "      <td>-</td>\n",
       "    </tr>\n",
       "    <tr>\n",
       "      <th>8</th>\n",
       "      <td>16</td>\n",
       "      <td>19</td>\n",
       "      <td>-</td>\n",
       "      <td>-</td>\n",
       "    </tr>\n",
       "    <tr>\n",
       "      <th>9</th>\n",
       "      <td>18</td>\n",
       "      <td>17</td>\n",
       "      <td>-</td>\n",
       "      <td>-</td>\n",
       "    </tr>\n",
       "    <tr>\n",
       "      <th>10</th>\n",
       "      <td>20</td>\n",
       "      <td>16</td>\n",
       "      <td>-</td>\n",
       "      <td>-</td>\n",
       "    </tr>\n",
       "  </tbody>\n",
       "</table>\n",
       "</div>"
      ],
      "text/plain": [
       "    $d\\, [mm]$  $C_0\\, [pF]$ $C_1\\, [pF]$ $C_2\\, [pF]$\n",
       "0            1           150            -            -\n",
       "1            2            93            -            -\n",
       "2            4            55            -            -\n",
       "3            6            40            -            -\n",
       "4            8            32            -            -\n",
       "5           10            27            -            -\n",
       "6           12            23            -            -\n",
       "7           14            21            -            -\n",
       "8           16            19            -            -\n",
       "9           18            17            -            -\n",
       "10          20            16            -            -"
      ]
     },
     "execution_count": 14,
     "metadata": {},
     "output_type": "execute_result"
    }
   ],
   "source": [
    "tab_0_latex = tab_1_latex.copy()\n",
    "\n",
    "tab_0_latex.iloc[:, 2:] = \"-\"\n",
    "\n",
    "tab_0_latex"
   ]
  },
  {
   "cell_type": "code",
   "execution_count": 15,
   "metadata": {},
   "outputs": [
    {
     "name": "stderr",
     "output_type": "stream",
     "text": [
      "/tmp/ipykernel_9713/1173118712.py:1: FutureWarning: In future versions `DataFrame.to_latex` is expected to utilise the base implementation of `Styler.to_latex` for formatting and rendering. The arguments signature may therefore change. It is recommended instead to use `DataFrame.style.to_latex` which also contains additional functionality.\n",
      "  tab_0_latex.T.to_latex(\n"
     ]
    }
   ],
   "source": [
    "tab_0_latex.T.to_latex(\n",
    "    buf='./tab_1_vazia.tex',\n",
    "    bold_rows=True,\n",
    "    escape=False,\n",
    "    index=True,\n",
    "    encoding='utf-8',\n",
    "    header=False\n",
    ")\n"
   ]
  },
  {
   "cell_type": "code",
   "execution_count": 16,
   "metadata": {},
   "outputs": [
    {
     "data": {
      "text/html": [
       "<div>\n",
       "<style scoped>\n",
       "    .dataframe tbody tr th:only-of-type {\n",
       "        vertical-align: middle;\n",
       "    }\n",
       "\n",
       "    .dataframe tbody tr th {\n",
       "        vertical-align: top;\n",
       "    }\n",
       "\n",
       "    .dataframe thead th {\n",
       "        text-align: right;\n",
       "    }\n",
       "</style>\n",
       "<table border=\"1\" class=\"dataframe\">\n",
       "  <thead>\n",
       "    <tr style=\"text-align: right;\">\n",
       "      <th></th>\n",
       "      <th>$d\\, [mm]$</th>\n",
       "      <th>$C_1\\, [pF]$</th>\n",
       "      <th>$C_2\\, [pF]$</th>\n",
       "    </tr>\n",
       "  </thead>\n",
       "  <tbody>\n",
       "    <tr>\n",
       "      <th>0</th>\n",
       "      <td>1</td>\n",
       "      <td>160</td>\n",
       "      <td>159</td>\n",
       "    </tr>\n",
       "    <tr>\n",
       "      <th>1</th>\n",
       "      <td>2</td>\n",
       "      <td>145</td>\n",
       "      <td>126</td>\n",
       "    </tr>\n",
       "    <tr>\n",
       "      <th>2</th>\n",
       "      <td>3</td>\n",
       "      <td>127</td>\n",
       "      <td>106</td>\n",
       "    </tr>\n",
       "    <tr>\n",
       "      <th>3</th>\n",
       "      <td>4</td>\n",
       "      <td>122</td>\n",
       "      <td>94</td>\n",
       "    </tr>\n",
       "    <tr>\n",
       "      <th>4</th>\n",
       "      <td>5</td>\n",
       "      <td>110</td>\n",
       "      <td>83</td>\n",
       "    </tr>\n",
       "    <tr>\n",
       "      <th>5</th>\n",
       "      <td>6</td>\n",
       "      <td>103</td>\n",
       "      <td>75</td>\n",
       "    </tr>\n",
       "  </tbody>\n",
       "</table>\n",
       "</div>"
      ],
      "text/plain": [
       "   $d\\, [mm]$  $C_1\\, [pF]$  $C_2\\, [pF]$\n",
       "0           1           160           159\n",
       "1           2           145           126\n",
       "2           3           127           106\n",
       "3           4           122            94\n",
       "4           5           110            83\n",
       "5           6           103            75"
      ]
     },
     "execution_count": 16,
     "metadata": {},
     "output_type": "execute_result"
    }
   ],
   "source": [
    "tab_2_latex = tab_2.copy()\n",
    "\n",
    "tab_2_latex.rename({\n",
    "    'd': '$d\\, [mm]$',\n",
    "    'C_1': '$C_1\\, [pF]$',\n",
    "    'C_2': '$C_2\\, [pF]$'\n",
    "}, axis=1, inplace=True)\n",
    "\n",
    "tab_2_latex"
   ]
  },
  {
   "cell_type": "code",
   "execution_count": 17,
   "metadata": {},
   "outputs": [
    {
     "name": "stderr",
     "output_type": "stream",
     "text": [
      "/tmp/ipykernel_9713/3342964785.py:1: FutureWarning: In future versions `DataFrame.to_latex` is expected to utilise the base implementation of `Styler.to_latex` for formatting and rendering. The arguments signature may therefore change. It is recommended instead to use `DataFrame.style.to_latex` which also contains additional functionality.\n",
      "  tab_2_latex.T.to_latex(\n"
     ]
    }
   ],
   "source": [
    "tab_2_latex.T.to_latex(\n",
    "    buf='./tab_2_preenchida.tex',\n",
    "    bold_rows=True,\n",
    "    escape=False,\n",
    "    index=True,\n",
    "    encoding='utf-8',\n",
    "    header=False,\n",
    "    column_format='c'*len(tab_2_latex)\n",
    ")\n"
   ]
  }
 ],
 "metadata": {
  "interpreter": {
   "hash": "916dbcbb3f70747c44a77c7bcd40155683ae19c65e1c03b4aa3499c5328201f1"
  },
  "kernelspec": {
   "display_name": "Python 3.10.4 64-bit",
   "language": "python",
   "name": "python3"
  },
  "language_info": {
   "codemirror_mode": {
    "name": "ipython",
    "version": 3
   },
   "file_extension": ".py",
   "mimetype": "text/x-python",
   "name": "python",
   "nbconvert_exporter": "python",
   "pygments_lexer": "ipython3",
   "version": "3.10.4"
  },
  "orig_nbformat": 4
 },
 "nbformat": 4,
 "nbformat_minor": 2
}
